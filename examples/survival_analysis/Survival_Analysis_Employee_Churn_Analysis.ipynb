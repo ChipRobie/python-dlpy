{
 "cells": [
  {
   "cell_type": "markdown",
   "metadata": {},
   "source": [
    "## Deep Learning with Python (DLPy) and SAS Viya: Survival Analysis"
   ]
  },
  {
   "cell_type": "markdown",
   "metadata": {},
   "source": [
    "The following example uses SAS DLPy to illustrate how we can easily apply a deep learning model for survival analysis through [the employee attrition data set](https://github.com/square/pysurvival/blob/master/pysurvival/datasets/employee_attrition.csv)  from [PySurvival](https://square.github.io/pysurvival/index.html). The analysis is to predict when an employee quit his job and understand the risk factors for employee turnover. This example demonstrates that the deep survival model can achieve better prediction than the popular Cox proportional hazards model."
   ]
  },
  {
   "cell_type": "markdown",
   "metadata": {},
   "source": [
    "# Table of contents\n",
    "1. [Survival Analysis and Censoring](#introduction)\n",
    "2. [Employee Attrition Data](#EDA)\n",
    "3. [Deep Survival Model for Employee Churn Analysis](#build_deepsurv)\n",
    "    1. [Build a Deep Learning Model with Survival Loss](#model_specification)\n",
    "    2. [Train a Deep Learning Model](#model_training)    \n",
    "4. [Evaluate Model Performance on Test Data Set](#evaluation)\n",
    "5. [Summary](#summary)"
   ]
  },
  {
   "cell_type": "markdown",
   "metadata": {},
   "source": [
    "## 1. Survival Analysis and Censoring <a name=\"introduction\"></a>"
   ]
  },
  {
   "cell_type": "markdown",
   "metadata": {},
   "source": [
    "[Survival analysis](https://en.wikipedia.org/wiki/Survival_analysis) is widely used for analyzing life time data, where the target variable is the  duration/survival time until an event of interest occurs. One of the goals in survival analysis is to predict when an event of interest is likely to happen.\n",
    "\n",
    "Survival analysis can be applied on many areas:\n",
    "\n",
    "- Medical research: predict survival time after treatment\n",
    "- Finance industry: predict when a borrower will likely to repay loan (credit risk)\n",
    "- Churn analysis: understand why and when clients unsubscribe or stop their services\n",
    "- Manufacturers: predict when an electronic device will break\n",
    "\n",
    "What is censoring and why does it matter?\n",
    "- Censoring happens if an individual doesn't experience the event of interest during the study period. In this situation, the individual's survival time is censored and not fully observed. In the employee attrition example, if an employee still works in the company by the time of collecting the data, the employee's tenure time is censored.\n",
    "- Standard regression models without accounting for censoring appropriately often lead to less accurate prediction and invalid inference. Therefore, survival models are developed to account for censoring, which can often lead to better prediction and valid inference."
   ]
  },
  {
   "cell_type": "markdown",
   "metadata": {},
   "source": [
    "### Load packages and launch CAS"
   ]
  },
  {
   "cell_type": "code",
   "execution_count": 1,
   "metadata": {},
   "outputs": [],
   "source": [
    "from swat import *\n",
    "import numpy as np\n",
    "import pandas as pd\n",
    "import matplotlib.pyplot as plt\n",
    "from IPython.display import Image\n",
    "from sklearn.model_selection import train_test_split\n",
    "import warnings\n",
    "%matplotlib inline\n",
    "\n",
    "import dlpy\n",
    "from dlpy.layers import *\n",
    "from dlpy.model import *\n",
    "from dlpy.images import ImageTable\n",
    "from dlpy.sequential import Sequential\n",
    "from dlpy.lr_scheduler import *"
   ]
  },
  {
   "cell_type": "code",
   "execution_count": 2,
   "metadata": {},
   "outputs": [],
   "source": [
    "# Start a CAS session\n",
    "host_name='your_host_name'\n",
    "port_number='your_port_number'\n",
    "s = CAS(host_name, port_number)"
   ]
  },
  {
   "cell_type": "markdown",
   "metadata": {},
   "source": [
    "## 2. The Employee Attrition Data <a name=\"EDA\"></a>\n",
    "You can find [the employee attrition data set](https://github.com/square/pysurvival/blob/master/pysurvival/datasets/employee_attrition.csv)  from [PySurvival](https://square.github.io/pysurvival/index.html)"
   ]
  },
  {
   "cell_type": "code",
   "execution_count": 3,
   "metadata": {
    "slideshow": {
     "slide_type": "slide"
    }
   },
   "outputs": [
    {
     "name": "stdout",
     "output_type": "stream",
     "text": [
      "Size of the data set: (14999, 10)\n"
     ]
    },
    {
     "data": {
      "text/html": [
       "<div>\n",
       "<style scoped>\n",
       "    .dataframe tbody tr th:only-of-type {\n",
       "        vertical-align: middle;\n",
       "    }\n",
       "\n",
       "    .dataframe tbody tr th {\n",
       "        vertical-align: top;\n",
       "    }\n",
       "\n",
       "    .dataframe thead th {\n",
       "        text-align: right;\n",
       "    }\n",
       "</style>\n",
       "<table border=\"1\" class=\"dataframe\">\n",
       "  <thead>\n",
       "    <tr style=\"text-align: right;\">\n",
       "      <th></th>\n",
       "      <th>satisfaction_level</th>\n",
       "      <th>last_evaluation</th>\n",
       "      <th>number_projects</th>\n",
       "      <th>average_montly_hours</th>\n",
       "      <th>time_spend_company</th>\n",
       "      <th>work_accident</th>\n",
       "      <th>left</th>\n",
       "      <th>promotion_last_5years</th>\n",
       "      <th>department</th>\n",
       "      <th>salary</th>\n",
       "    </tr>\n",
       "  </thead>\n",
       "  <tbody>\n",
       "    <tr>\n",
       "      <td>0</td>\n",
       "      <td>0.38</td>\n",
       "      <td>0.53</td>\n",
       "      <td>2</td>\n",
       "      <td>157</td>\n",
       "      <td>3</td>\n",
       "      <td>0</td>\n",
       "      <td>1</td>\n",
       "      <td>0</td>\n",
       "      <td>sales</td>\n",
       "      <td>low</td>\n",
       "    </tr>\n",
       "    <tr>\n",
       "      <td>1</td>\n",
       "      <td>0.80</td>\n",
       "      <td>0.86</td>\n",
       "      <td>5</td>\n",
       "      <td>262</td>\n",
       "      <td>6</td>\n",
       "      <td>0</td>\n",
       "      <td>1</td>\n",
       "      <td>0</td>\n",
       "      <td>sales</td>\n",
       "      <td>medium</td>\n",
       "    </tr>\n",
       "    <tr>\n",
       "      <td>2</td>\n",
       "      <td>0.11</td>\n",
       "      <td>0.88</td>\n",
       "      <td>7</td>\n",
       "      <td>272</td>\n",
       "      <td>4</td>\n",
       "      <td>0</td>\n",
       "      <td>1</td>\n",
       "      <td>0</td>\n",
       "      <td>sales</td>\n",
       "      <td>medium</td>\n",
       "    </tr>\n",
       "    <tr>\n",
       "      <td>3</td>\n",
       "      <td>0.72</td>\n",
       "      <td>0.87</td>\n",
       "      <td>5</td>\n",
       "      <td>223</td>\n",
       "      <td>5</td>\n",
       "      <td>0</td>\n",
       "      <td>1</td>\n",
       "      <td>0</td>\n",
       "      <td>sales</td>\n",
       "      <td>low</td>\n",
       "    </tr>\n",
       "    <tr>\n",
       "      <td>4</td>\n",
       "      <td>0.37</td>\n",
       "      <td>0.52</td>\n",
       "      <td>2</td>\n",
       "      <td>159</td>\n",
       "      <td>3</td>\n",
       "      <td>0</td>\n",
       "      <td>1</td>\n",
       "      <td>0</td>\n",
       "      <td>sales</td>\n",
       "      <td>low</td>\n",
       "    </tr>\n",
       "  </tbody>\n",
       "</table>\n",
       "</div>"
      ],
      "text/plain": [
       "   satisfaction_level  last_evaluation  number_projects  average_montly_hours  \\\n",
       "0                0.38             0.53                2                   157   \n",
       "1                0.80             0.86                5                   262   \n",
       "2                0.11             0.88                7                   272   \n",
       "3                0.72             0.87                5                   223   \n",
       "4                0.37             0.52                2                   159   \n",
       "\n",
       "   time_spend_company  work_accident  left  promotion_last_5years department  \\\n",
       "0                   3              0     1                      0      sales   \n",
       "1                   6              0     1                      0      sales   \n",
       "2                   4              0     1                      0      sales   \n",
       "3                   5              0     1                      0      sales   \n",
       "4                   3              0     1                      0      sales   \n",
       "\n",
       "   salary  \n",
       "0     low  \n",
       "1  medium  \n",
       "2  medium  \n",
       "3     low  \n",
       "4     low  "
      ]
     },
     "execution_count": 3,
     "metadata": {},
     "output_type": "execute_result"
    }
   ],
   "source": [
    "# Load the employee attrition data set from csv\n",
    "df_employee = pd.read_csv(\"employee_attrition.csv\")\n",
    "print(\"Size of the data set:\", df_employee.shape)\n",
    "df_employee.head()"
   ]
  },
  {
   "cell_type": "markdown",
   "metadata": {},
   "source": [
    "###  Target variable and its distribution\n",
    "- time_spend_company"
   ]
  },
  {
   "cell_type": "code",
   "execution_count": 4,
   "metadata": {},
   "outputs": [
    {
     "data": {
      "image/png": "[encoded data removed]",
      "text/plain": [
       "<Figure size 432x288 with 1 Axes>"
      ]
     },
     "metadata": {},
     "output_type": "display_data"
    }
   ],
   "source": [
    "# pie chart on survival time\n",
    "time_column = 'time_spend_company' # time spent at the company\n",
    "df_employee[time_column].value_counts().plot(kind='pie', autopct='%1.1f%%').set_title('Survival time distribution')\n",
    "plt.show()"
   ]
  },
  {
   "cell_type": "markdown",
   "metadata": {},
   "source": [
    "### Censoring indicator variable: left\n",
    "#### 1: indicates that an employee left the company, so his/her duration time at the company is completely observed.\n",
    "#### 0: indicates that an employee is still working in the company during the time of the study, so his/her duration time at the company is incompletely observed and censored."
   ]
  },
  {
   "cell_type": "code",
   "execution_count": 5,
   "metadata": {},
   "outputs": [
    {
     "data": {
      "image/png": "[encoded data removed]",
      "text/plain": [
       "<Figure size 432x288 with 1 Axes>"
      ]
     },
     "metadata": {},
     "output_type": "display_data"
    }
   ],
   "source": [
    "# censoring indicator who left the company  \n",
    "event_column = 'left'\n",
    "df_employee[event_column].value_counts().plot(kind='pie', autopct='%1.1f%%').set_title('Censoring distribution')\n",
    "plt.show()"
   ]
  },
  {
   "cell_type": "markdown",
   "metadata": {},
   "source": [
    "Note: In this data set, 76.2% observations have censored target values. Standard regression methods, either by ignoring censoring information or dropping those censored observations often lead to less accurate prediction."
   ]
  },
  {
   "cell_type": "markdown",
   "metadata": {},
   "source": [
    "###  Input features"
   ]
  },
  {
   "cell_type": "markdown",
   "metadata": {},
   "source": [
    "#### satisfaction_level: employee satisfaction level by self evaluation"
   ]
  },
  {
   "cell_type": "code",
   "execution_count": 6,
   "metadata": {},
   "outputs": [
    {
     "data": {
      "image/png": "[encoded data removed]",
      "text/plain": [
       "<Figure size 432x288 with 1 Axes>"
      ]
     },
     "metadata": {
      "needs_background": "light"
     },
     "output_type": "display_data"
    }
   ],
   "source": [
    "# satisfaction_level: employee satisfaction level by self evaluation\n",
    "df_employee['satisfaction_level'].plot.hist(legend=None)\n",
    "plt.show()"
   ]
  },
  {
   "cell_type": "markdown",
   "metadata": {},
   "source": [
    "\n"
   ]
  },
  {
   "cell_type": "markdown",
   "metadata": {},
   "source": [
    "###  Prepare data for survival analysis\n",
    "\n",
    "#### Split data into training and test data\n",
    "- We split the dataset to train (70% samples) and test (30% samples).\n",
    "\n",
    "#### Prepare a target variable y for survival analysis\n",
    "y is obtained by combining censoring information and original target values (time_spend_company)\n",
    "-  y =   time_spend_company if left = 1 when an employee left the company\n",
    "-  y = -1*time_spend_company if left = 0 when an employee didn't leave the company"
   ]
  },
  {
   "cell_type": "code",
   "execution_count": 7,
   "metadata": {},
   "outputs": [
    {
     "name": "stdout",
     "output_type": "stream",
     "text": [
      "NOTE: Cloud Analytic Services made the uploaded file available as table TRAIN in caslib CASUSER(aistatistics).\n",
      "NOTE: The table TRAIN has been created in caslib CASUSER(aistatistics) from binary data uploaded to Cloud Analytic Services.\n",
      "NOTE: Cloud Analytic Services made the uploaded file available as table TEST in caslib CASUSER(aistatistics).\n",
      "NOTE: The table TEST has been created in caslib CASUSER(aistatistics) from binary data uploaded to Cloud Analytic Services.\n"
     ]
    },
    {
     "data": {
      "text/plain": [
       "CASTable('TEST', caslib='CASUSER(aistatistics)')"
      ]
     },
     "execution_count": 7,
     "metadata": {},
     "output_type": "execute_result"
    }
   ],
   "source": [
    "N = df_employee.shape[0]\n",
    "seed = 61386\n",
    "index_train, index_test = train_test_split(range(N), test_size=0.3,random_state=seed)\n",
    "\n",
    "\n",
    "dl_train = df_employee.loc[index_train].reset_index(drop=True)\n",
    "dl_test  = df_employee.loc[index_test].reset_index(drop=True)\n",
    "\n",
    "# Important note\n",
    "# create a new target variable y: negative for censored observations, and positive for uncensored observations\n",
    "# y = time_spent if left=1 when an employee left the company\n",
    "# y = -1* time_spent if left=0 when an employee is still in the company\n",
    "dl_train['y'] = dl_train.apply(lambda row: (row[time_column] if row[event_column] else -row[time_column]), axis=1)\n",
    "dl_test['y']  = dl_test.apply(lambda row: (row[time_column] if row[event_column] else -row[time_column]), axis=1)\n",
    "\n",
    "\n",
    "# create id variable to identify each observation\n",
    "# dl_train['id'] = np.arange(dl_train.shape[0])\n",
    "dl_test['id'] = np.arange(dl_test.shape[0])\n",
    "\n",
    "# upload the training and test data set into CAS\n",
    "trainTbl = s.CASTable(\"train\",replace=True)\n",
    "testTbl = s.CASTable(\"test\",replace=True)\n",
    "\n",
    "# specify type = char for department and salary. The default is varchar\n",
    "CAS.upload_frame(s, \n",
    "                 dl_train,  \n",
    "                 casout=trainTbl,\n",
    "                 importoptions=dict(vars=dict(department=dict(type='char',length='11'), \n",
    "                                              salary=dict(type='char',length='6'))))\n",
    "CAS.upload_frame(s, \n",
    "                 dl_test,  \n",
    "                 casout=testTbl,\n",
    "                 importoptions=dict(vars=dict(department=dict(type='char',length='11'), \n",
    "                                              salary=dict(type='char',length='6'))))"
   ]
  },
  {
   "cell_type": "code",
   "execution_count": 8,
   "metadata": {},
   "outputs": [
    {
     "name": "stdout",
     "output_type": "stream",
     "text": [
      "Size of training data: (10499, 11).  70.0% samples\n",
      "Size of test data: (4500, 12).  30.0% samples\n"
     ]
    }
   ],
   "source": [
    "# verify the data sets after split\n",
    "splitRatio = trainTbl.shape[0]/(trainTbl.shape[0]+testTbl.shape[0])\n",
    "train_string = \"Size of training data: {}.  {:.1%} samples\"\n",
    "test_string = \"Size of test data: {}.  {:.1%} samples\"  \n",
    "print(train_string.format(trainTbl.shape, splitRatio)) \n",
    "print(test_string.format(testTbl.shape, 1-splitRatio)) "
   ]
  },
  {
   "cell_type": "markdown",
   "metadata": {},
   "source": [
    "## 3. Deep Survival Model for Employee Attrition Analysis <a name=\"build_deepsurv\"></a>"
   ]
  },
  {
   "cell_type": "markdown",
   "metadata": {},
   "source": [
    "#### Specify inputs and target variables"
   ]
  },
  {
   "cell_type": "code",
   "execution_count": 9,
   "metadata": {},
   "outputs": [
    {
     "name": "stdout",
     "output_type": "stream",
     "text": [
      "Prepare input and target variables\n",
      "Number of input variables: 8\n",
      "\n",
      "Input variables:\n",
      " ['promotion_last_5years', 'work_accident', 'number_projects', 'salary', 'last_evaluation', 'average_montly_hours', 'satisfaction_level', 'department']\n",
      "\n",
      "Nominal inputs: ['department', 'salary']\n",
      "\n",
      "Target variable: y\n"
     ]
    }
   ],
   "source": [
    "print(\"Prepare input and target variables\")\n",
    "inputs = set(trainTbl.columninfo()[\"ColumnInfo\"][\"Column\"]) ## a set \n",
    "# a list of input variables are obtained by excluding target and censoring variables\n",
    "inputs = list(inputs -{'y',time_column,event_column}) \n",
    "\n",
    "print(\"Number of input variables:\", len(inputs))\n",
    "print(\"\\nInput variables:\\n\", inputs)\n",
    "nominals = [\"department\",\"salary\"]\n",
    "print(\"\\nNominal inputs:\", nominals)\n",
    "# y is the target variable instead of \"time_spend_company\"\n",
    "print(\"\\nTarget variable:\",\"y\") "
   ]
  },
  {
   "cell_type": "markdown",
   "metadata": {},
   "source": [
    "### 3.1 Build a deep survival model<a name=\"model_specification\"></a>\n",
    "- The [deep survival model](https://bmcmedresmethodol.biomedcentral.com/articles/10.1186/s12874-018-0482-1) builds on the classical proportional hazards model, and use deep learning as backbone to automatically learn a flexible and complex hazard function, which can improve model prediction.\n",
    "- You can refer to the paper [\"DeepSurv: Personalized Treatment Recommender System Using A Cox Proportional Hazards Deep Neural Network\"](https://bmcmedresmethodol.biomedcentral.com/articles/10.1186/s12874-018-0482-1) for details."
   ]
  },
  {
   "cell_type": "code",
   "execution_count": 10,
   "metadata": {},
   "outputs": [
    {
     "name": "stdout",
     "output_type": "stream",
     "text": [
      "Input vars: ['promotion_last_5years', 'work_accident', 'number_projects', 'salary', 'last_evaluation', 'average_montly_hours', 'satisfaction_level', 'department']\n",
      "Number of inputs: 8\n",
      "Number of hidden units: 13\n",
      "NOTE: Input layer added.\n",
      "NOTE: Fully-connected layer added.\n",
      "NOTE: Batch normalization layer added.\n",
      "NOTE: Fully-connected layer added.\n",
      "NOTE: Batch normalization layer added.\n",
      "NOTE: Fully-connected layer added.\n",
      "NOTE: Survival layer added.\n",
      "NOTE: Model compiled successfully.\n"
     ]
    }
   ],
   "source": [
    "modelName='deepsurv_model';\n",
    "\n",
    "inputVars = inputs\n",
    "print(\"Input vars:\",inputVars)\n",
    "nInput= len(inputVars)\n",
    "print(\"Number of inputs:\",nInput)\n",
    "nHidden = nInput + 5\n",
    "print(\"Number of hidden units:\",nHidden)\n",
    "deepSurvModel = Sequential(s, model_table=modelName)\n",
    "deepSurvModel.add(InputLayer(std='STD'))\n",
    "deepSurvModel.add(Dense(n=nHidden, act='identity', include_bias=False))\n",
    "deepSurvModel.add(BN(act='relu'))\n",
    "deepSurvModel.add(Dense(n=nHidden, act='identity', include_bias=False))\n",
    "deepSurvModel.add(BN(act='relu'))\n",
    "# NOTE: the last dense layer should only have one neuron, and identity activation function is used. \n",
    "deepSurvModel.add(Dense(n=1, act='identity'))\n",
    "# NOTE: specify the task layer (the last layer) as Survival layer to obtain the survival loss function\n",
    "# prediction from deep survival model is the risk score: e^h(x)\n",
    "deepSurvModel.add(Survival())"
   ]
  },
  {
   "cell_type": "code",
   "execution_count": 11,
   "metadata": {},
   "outputs": [
    {
     "data": {
      "text/html": [
       "<div class=\"cas-results-key\"><b>&#167; TableInfo</b></div>\n",
       "<div class=\"cas-results-body\">\n",
       "<div>\n",
       "<style scoped>\n",
       "    .dataframe tbody tr th:only-of-type {\n",
       "        vertical-align: middle;\n",
       "    }\n",
       "\n",
       "    .dataframe tbody tr th {\n",
       "        vertical-align: top;\n",
       "    }\n",
       "\n",
       "    .dataframe thead th {\n",
       "        text-align: right;\n",
       "    }\n",
       "</style>\n",
       "<table border=\"1\" class=\"dataframe\">\n",
       "  <thead>\n",
       "    <tr style=\"text-align: right;\">\n",
       "      <th title=\"\"></th>\n",
       "      <th title=\"Name\">Name</th>\n",
       "      <th title=\"Rows\">Rows</th>\n",
       "      <th title=\"Columns\">Columns</th>\n",
       "      <th title=\"Indexed Columns\">IndexedColumns</th>\n",
       "      <th title=\"Encoding\">Encoding</th>\n",
       "      <th title=\"Created\">CreateTimeFormatted</th>\n",
       "      <th title=\"Last Modified\">ModTimeFormatted</th>\n",
       "      <th title=\"Last Accessed\">AccessTimeFormatted</th>\n",
       "      <th title=\"Character Set\">JavaCharSet</th>\n",
       "      <th title=\"CreateTime\">CreateTime</th>\n",
       "      <th title=\"...\">...</th>\n",
       "      <th title=\"Repeated\">Repeated</th>\n",
       "      <th title=\"View\">View</th>\n",
       "      <th title=\"MultiPart\">MultiPart</th>\n",
       "      <th title=\"Loaded Source\">SourceName</th>\n",
       "      <th title=\"Source Caslib\">SourceCaslib</th>\n",
       "      <th title=\"Compressed\">Compressed</th>\n",
       "      <th title=\"Table Creator\">Creator</th>\n",
       "      <th title=\"Last Table Modifier\">Modifier</th>\n",
       "      <th title=\"Source Modified\">SourceModTimeFormatted</th>\n",
       "      <th title=\"SourceModTime\">SourceModTime</th>\n",
       "    </tr>\n",
       "  </thead>\n",
       "  <tbody>\n",
       "    <tr>\n",
       "      <td>0</td>\n",
       "      <td>TRAIN</td>\n",
       "      <td>10499</td>\n",
       "      <td>11</td>\n",
       "      <td>0</td>\n",
       "      <td>utf-8</td>\n",
       "      <td>2020-03-10T12:36:27-04:00</td>\n",
       "      <td>2020-03-10T12:36:27-04:00</td>\n",
       "      <td>2020-03-10T12:36:28-04:00</td>\n",
       "      <td>UTF8</td>\n",
       "      <td>1.899477e+09</td>\n",
       "      <td>...</td>\n",
       "      <td>0</td>\n",
       "      <td>0</td>\n",
       "      <td>0</td>\n",
       "      <td></td>\n",
       "      <td></td>\n",
       "      <td>0</td>\n",
       "      <td>aistatistics</td>\n",
       "      <td></td>\n",
       "      <td>2020-03-10T12:36:27-04:00</td>\n",
       "      <td>1.899477e+09</td>\n",
       "    </tr>\n",
       "    <tr>\n",
       "      <td>1</td>\n",
       "      <td>TEST</td>\n",
       "      <td>4500</td>\n",
       "      <td>12</td>\n",
       "      <td>0</td>\n",
       "      <td>utf-8</td>\n",
       "      <td>2020-03-10T12:36:27-04:00</td>\n",
       "      <td>2020-03-10T12:36:27-04:00</td>\n",
       "      <td>2020-03-10T12:36:28-04:00</td>\n",
       "      <td>UTF8</td>\n",
       "      <td>1.899477e+09</td>\n",
       "      <td>...</td>\n",
       "      <td>0</td>\n",
       "      <td>0</td>\n",
       "      <td>0</td>\n",
       "      <td></td>\n",
       "      <td></td>\n",
       "      <td>0</td>\n",
       "      <td>aistatistics</td>\n",
       "      <td></td>\n",
       "      <td>2020-03-10T12:36:27-04:00</td>\n",
       "      <td>1.899477e+09</td>\n",
       "    </tr>\n",
       "    <tr>\n",
       "      <td>2</td>\n",
       "      <td>DEEPSURV_MODEL</td>\n",
       "      <td>53</td>\n",
       "      <td>5</td>\n",
       "      <td>0</td>\n",
       "      <td>utf-8</td>\n",
       "      <td>2020-03-10T12:36:29-04:00</td>\n",
       "      <td>2020-03-10T12:36:29-04:00</td>\n",
       "      <td>2020-03-10T12:36:29-04:00</td>\n",
       "      <td>UTF8</td>\n",
       "      <td>1.899477e+09</td>\n",
       "      <td>...</td>\n",
       "      <td>0</td>\n",
       "      <td>0</td>\n",
       "      <td>0</td>\n",
       "      <td></td>\n",
       "      <td></td>\n",
       "      <td>0</td>\n",
       "      <td>aistatistics</td>\n",
       "      <td></td>\n",
       "      <td></td>\n",
       "      <td>NaN</td>\n",
       "    </tr>\n",
       "  </tbody>\n",
       "</table>\n",
       "<p>3 rows × 23 columns</p>\n",
       "</div>\n",
       "</div>\n",
       "<div class=\"cas-output-area\"></div>\n",
       "<p class=\"cas-results-performance\"><small><span class=\"cas-elapsed\">elapsed 0.000508s</span> &#183; <span class=\"cas-user\">user 0.000468s</span> &#183; <span class=\"cas-memory\">mem 0.685MB</span></small></p>"
      ],
      "text/plain": [
       "[TableInfo]\n",
       "\n",
       "              Name   Rows  Columns  IndexedColumns Encoding  \\\n",
       " 0           TRAIN  10499       11               0    utf-8   \n",
       " 1            TEST   4500       12               0    utf-8   \n",
       " 2  DEEPSURV_MODEL     53        5               0    utf-8   \n",
       " \n",
       "          CreateTimeFormatted           ModTimeFormatted  \\\n",
       " 0  2020-03-10T12:36:27-04:00  2020-03-10T12:36:27-04:00   \n",
       " 1  2020-03-10T12:36:27-04:00  2020-03-10T12:36:27-04:00   \n",
       " 2  2020-03-10T12:36:29-04:00  2020-03-10T12:36:29-04:00   \n",
       " \n",
       "          AccessTimeFormatted JavaCharSet    CreateTime  ...  Repeated  View  \\\n",
       " 0  2020-03-10T12:36:28-04:00        UTF8  1.899477e+09  ...         0     0   \n",
       " 1  2020-03-10T12:36:28-04:00        UTF8  1.899477e+09  ...         0     0   \n",
       " 2  2020-03-10T12:36:29-04:00        UTF8  1.899477e+09  ...         0     0   \n",
       " \n",
       "    MultiPart  SourceName  SourceCaslib  Compressed Creator Modifier  \\\n",
       " 0          0                                     0  aistatistics            \n",
       " 1          0                                     0  aistatistics            \n",
       " 2          0                                     0  aistatistics            \n",
       " \n",
       "       SourceModTimeFormatted SourceModTime  \n",
       " 0  2020-03-10T12:36:27-04:00  1.899477e+09  \n",
       " 1  2020-03-10T12:36:27-04:00  1.899477e+09  \n",
       " 2                                      NaN  \n",
       " \n",
       " [3 rows x 23 columns]\n",
       "\n",
       "+ Elapsed: 0.000508s, user: 0.000468s, mem: 0.685mb"
      ]
     },
     "execution_count": 11,
     "metadata": {},
     "output_type": "execute_result"
    }
   ],
   "source": [
    "# check available CAS tables\n",
    "s.tableinfo()"
   ]
  },
  {
   "cell_type": "markdown",
   "metadata": {},
   "source": [
    "#### Plot deep survival model architecture"
   ]
  },
  {
   "cell_type": "code",
   "execution_count": 12,
   "metadata": {},
   "outputs": [
    {
     "data": {
      "image/svg+xml": [
       "<?xml version=\"1.0\" encoding=\"UTF-8\" standalone=\"no\"?>\r\n",
       "<!DOCTYPE svg PUBLIC \"-//W3C//DTD SVG 1.1//EN\"\r\n",
       " \"http://www.w3.org/Graphics/SVG/1.1/DTD/svg11.dtd\">\r\n",
       "<!-- Generated by graphviz version 2.38.0 (20140413.2041)\r\n",
       " -->\r\n",
       "<!-- Title: deepsurv_model Pages: 1 -->\r\n",
       "<svg width=\"168pt\" height=\"451pt\"\r\n",
       " viewBox=\"0.00 0.00 168.00 451.00\" xmlns=\"http://www.w3.org/2000/svg\" xmlns:xlink=\"http://www.w3.org/1999/xlink\">\r\n",
       "<g id=\"graph0\" class=\"graph\" transform=\"scale(1 1) rotate(0) translate(4 447)\">\r\n",
       "<title>deepsurv_model</title>\r\n",
       "<polygon fill=\"white\" stroke=\"none\" points=\"-4,4 -4,-447 164,-447 164,4 -4,4\"/>\r\n",
       "<!-- Input1 -->\r\n",
       "<g id=\"node1\" class=\"node\"><title>Input1</title>\r\n",
       "<polygon fill=\"#3288bd\" fill-opacity=\"0.250980\" stroke=\"#3288bd\" points=\"26.5,-420.5 26.5,-442.5 133.5,-442.5 133.5,-420.5 26.5,-420.5\"/>\r\n",
       "<text text-anchor=\"middle\" x=\"80\" y=\"-427.8\" font-family=\"Helvetica,sans-Serif\" font-size=\"14.00\">Input1(input)</text>\r\n",
       "</g>\r\n",
       "<!-- F.C.1 -->\r\n",
       "<g id=\"node2\" class=\"node\"><title>F.C.1</title>\r\n",
       "<polygon fill=\"#ffffbf\" fill-opacity=\"0.250980\" stroke=\"#aeae82\" points=\"20,-350.5 20,-372.5 140,-372.5 140,-350.5 20,-350.5\"/>\r\n",
       "<text text-anchor=\"middle\" x=\"80\" y=\"-357.8\" font-family=\"Helvetica,sans-Serif\" font-size=\"14.00\">0x13 F.C.1(fc)</text>\r\n",
       "</g>\r\n",
       "<!-- Input1&#45;&gt;F.C.1 -->\r\n",
       "<g id=\"edge1\" class=\"edge\"><title>Input1&#45;&gt;F.C.1</title>\r\n",
       "<path fill=\"none\" stroke=\"#5677f3\" d=\"M80,-420.466C80,-410.623 80,-395.327 80,-382.919\"/>\r\n",
       "<polygon fill=\"#5677f3\" stroke=\"#5677f3\" points=\"83.5001,-382.575 80,-372.575 76.5001,-382.575 83.5001,-382.575\"/>\r\n",
       "<text text-anchor=\"middle\" x=\"86\" y=\"-394\" font-family=\"Helvetica,sans-Serif\" font-size=\"10.00\"> 0 </text>\r\n",
       "</g>\r\n",
       "<!-- B.N.1 -->\r\n",
       "<g id=\"node3\" class=\"node\"><title>B.N.1</title>\r\n",
       "<polygon fill=\"#fdae61\" fill-opacity=\"0.250980\" stroke=\"#fdae61\" points=\"0,-280.5 0,-302.5 160,-302.5 160,-280.5 0,-280.5\"/>\r\n",
       "<text text-anchor=\"middle\" x=\"80\" y=\"-287.8\" font-family=\"Helvetica,sans-Serif\" font-size=\"14.00\">13 B.N.1(batchnorm)</text>\r\n",
       "</g>\r\n",
       "<!-- F.C.1&#45;&gt;B.N.1 -->\r\n",
       "<g id=\"edge2\" class=\"edge\"><title>F.C.1&#45;&gt;B.N.1</title>\r\n",
       "<path fill=\"none\" stroke=\"#5677f3\" d=\"M80,-350.466C80,-340.623 80,-325.327 80,-312.919\"/>\r\n",
       "<polygon fill=\"#5677f3\" stroke=\"#5677f3\" points=\"83.5001,-312.575 80,-302.575 76.5001,-312.575 83.5001,-312.575\"/>\r\n",
       "<text text-anchor=\"middle\" x=\"88.5\" y=\"-324\" font-family=\"Helvetica,sans-Serif\" font-size=\"10.00\"> 13 </text>\r\n",
       "</g>\r\n",
       "<!-- F.C.2 -->\r\n",
       "<g id=\"node4\" class=\"node\"><title>F.C.2</title>\r\n",
       "<polygon fill=\"#ffffbf\" fill-opacity=\"0.250980\" stroke=\"#aeae82\" points=\"16,-210.5 16,-232.5 144,-232.5 144,-210.5 16,-210.5\"/>\r\n",
       "<text text-anchor=\"middle\" x=\"80\" y=\"-217.8\" font-family=\"Helvetica,sans-Serif\" font-size=\"14.00\">13x13 F.C.2(fc)</text>\r\n",
       "</g>\r\n",
       "<!-- B.N.1&#45;&gt;F.C.2 -->\r\n",
       "<g id=\"edge3\" class=\"edge\"><title>B.N.1&#45;&gt;F.C.2</title>\r\n",
       "<path fill=\"none\" stroke=\"#5677f3\" d=\"M80,-280.466C80,-270.623 80,-255.327 80,-242.919\"/>\r\n",
       "<polygon fill=\"#5677f3\" stroke=\"#5677f3\" points=\"83.5001,-242.575 80,-232.575 76.5001,-242.575 83.5001,-242.575\"/>\r\n",
       "<text text-anchor=\"middle\" x=\"88.5\" y=\"-254\" font-family=\"Helvetica,sans-Serif\" font-size=\"10.00\"> 13 </text>\r\n",
       "</g>\r\n",
       "<!-- B.N.2 -->\r\n",
       "<g id=\"node5\" class=\"node\"><title>B.N.2</title>\r\n",
       "<polygon fill=\"#fdae61\" fill-opacity=\"0.250980\" stroke=\"#fdae61\" points=\"0,-140.5 0,-162.5 160,-162.5 160,-140.5 0,-140.5\"/>\r\n",
       "<text text-anchor=\"middle\" x=\"80\" y=\"-147.8\" font-family=\"Helvetica,sans-Serif\" font-size=\"14.00\">13 B.N.2(batchnorm)</text>\r\n",
       "</g>\r\n",
       "<!-- F.C.2&#45;&gt;B.N.2 -->\r\n",
       "<g id=\"edge4\" class=\"edge\"><title>F.C.2&#45;&gt;B.N.2</title>\r\n",
       "<path fill=\"none\" stroke=\"#5677f3\" d=\"M80,-210.466C80,-200.623 80,-185.327 80,-172.919\"/>\r\n",
       "<polygon fill=\"#5677f3\" stroke=\"#5677f3\" points=\"83.5001,-172.575 80,-162.575 76.5001,-172.575 83.5001,-172.575\"/>\r\n",
       "<text text-anchor=\"middle\" x=\"88.5\" y=\"-184\" font-family=\"Helvetica,sans-Serif\" font-size=\"10.00\"> 13 </text>\r\n",
       "</g>\r\n",
       "<!-- F.C.3 -->\r\n",
       "<g id=\"node6\" class=\"node\"><title>F.C.3</title>\r\n",
       "<polygon fill=\"#ffffbf\" fill-opacity=\"0.250980\" stroke=\"#aeae82\" points=\"20,-70.5 20,-92.5 140,-92.5 140,-70.5 20,-70.5\"/>\r\n",
       "<text text-anchor=\"middle\" x=\"80\" y=\"-77.8\" font-family=\"Helvetica,sans-Serif\" font-size=\"14.00\">13x1 F.C.3(fc)</text>\r\n",
       "</g>\r\n",
       "<!-- B.N.2&#45;&gt;F.C.3 -->\r\n",
       "<g id=\"edge5\" class=\"edge\"><title>B.N.2&#45;&gt;F.C.3</title>\r\n",
       "<path fill=\"none\" stroke=\"#5677f3\" d=\"M80,-140.466C80,-130.623 80,-115.327 80,-102.919\"/>\r\n",
       "<polygon fill=\"#5677f3\" stroke=\"#5677f3\" points=\"83.5001,-102.575 80,-92.5748 76.5001,-102.575 83.5001,-102.575\"/>\r\n",
       "<text text-anchor=\"middle\" x=\"88.5\" y=\"-114\" font-family=\"Helvetica,sans-Serif\" font-size=\"10.00\"> 13 </text>\r\n",
       "</g>\r\n",
       "<!-- Survival1 -->\r\n",
       "<g id=\"node7\" class=\"node\"><title>Survival1</title>\r\n",
       "<polygon fill=\"#9e0142\" fill-opacity=\"0.250980\" stroke=\"#9e0142\" points=\"3.5,-0.5 3.5,-22.5 156.5,-22.5 156.5,-0.5 3.5,-0.5\"/>\r\n",
       "<text text-anchor=\"middle\" x=\"80\" y=\"-7.8\" font-family=\"Helvetica,sans-Serif\" font-size=\"14.00\">1 Survival1(survival)</text>\r\n",
       "</g>\r\n",
       "<!-- F.C.3&#45;&gt;Survival1 -->\r\n",
       "<g id=\"edge6\" class=\"edge\"><title>F.C.3&#45;&gt;Survival1</title>\r\n",
       "<path fill=\"none\" stroke=\"#5677f3\" d=\"M80,-70.4664C80,-60.6231 80,-45.327 80,-32.9189\"/>\r\n",
       "<polygon fill=\"#5677f3\" stroke=\"#5677f3\" points=\"83.5001,-32.5748 80,-22.5748 76.5001,-32.5748 83.5001,-32.5748\"/>\r\n",
       "<text text-anchor=\"middle\" x=\"86\" y=\"-44\" font-family=\"Helvetica,sans-Serif\" font-size=\"10.00\"> 1 </text>\r\n",
       "</g>\r\n",
       "</g>\r\n",
       "</svg>\r\n"
      ],
      "text/plain": [
       "<graphviz.dot.Digraph at 0x1a9af6c5048>"
      ]
     },
     "execution_count": 12,
     "metadata": {},
     "output_type": "execute_result"
    }
   ],
   "source": [
    "deepSurvModel.plot_network()"
   ]
  },
  {
   "cell_type": "code",
   "execution_count": 13,
   "metadata": {},
   "outputs": [
    {
     "data": {
      "text/html": [
       "<div>\n",
       "<style scoped>\n",
       "    .dataframe tbody tr th:only-of-type {\n",
       "        vertical-align: middle;\n",
       "    }\n",
       "\n",
       "    .dataframe tbody tr th {\n",
       "        vertical-align: top;\n",
       "    }\n",
       "\n",
       "    .dataframe thead th {\n",
       "        text-align: right;\n",
       "    }\n",
       "</style>\n",
       "<table border=\"1\" class=\"dataframe\">\n",
       "  <thead>\n",
       "    <tr style=\"text-align: right;\">\n",
       "      <th></th>\n",
       "      <th>Layer Id</th>\n",
       "      <th>Layer</th>\n",
       "      <th>Type</th>\n",
       "      <th>Kernel Size</th>\n",
       "      <th>Stride</th>\n",
       "      <th>Activation</th>\n",
       "      <th>Output Size</th>\n",
       "      <th>Number of Parameters</th>\n",
       "      <th>FLOPS(forward pass)</th>\n",
       "    </tr>\n",
       "  </thead>\n",
       "  <tbody>\n",
       "    <tr>\n",
       "      <td>0</td>\n",
       "      <td>0</td>\n",
       "      <td>Input1</td>\n",
       "      <td>input</td>\n",
       "      <td></td>\n",
       "      <td></td>\n",
       "      <td>None</td>\n",
       "      <td>0</td>\n",
       "      <td>(0, 0)</td>\n",
       "      <td>0</td>\n",
       "    </tr>\n",
       "    <tr>\n",
       "      <td>1</td>\n",
       "      <td>1</td>\n",
       "      <td>F.C.1</td>\n",
       "      <td>fc</td>\n",
       "      <td>(0, 13)</td>\n",
       "      <td></td>\n",
       "      <td>Identity</td>\n",
       "      <td>13</td>\n",
       "      <td>(0, 0)</td>\n",
       "      <td>0</td>\n",
       "    </tr>\n",
       "    <tr>\n",
       "      <td>2</td>\n",
       "      <td>2</td>\n",
       "      <td>B.N.1</td>\n",
       "      <td>batchnorm</td>\n",
       "      <td></td>\n",
       "      <td></td>\n",
       "      <td>Relu</td>\n",
       "      <td>13</td>\n",
       "      <td>(0, 2)</td>\n",
       "      <td>0</td>\n",
       "    </tr>\n",
       "    <tr>\n",
       "      <td>3</td>\n",
       "      <td>3</td>\n",
       "      <td>F.C.2</td>\n",
       "      <td>fc</td>\n",
       "      <td>(13, 13)</td>\n",
       "      <td></td>\n",
       "      <td>Identity</td>\n",
       "      <td>13</td>\n",
       "      <td>(169, 0)</td>\n",
       "      <td>169</td>\n",
       "    </tr>\n",
       "    <tr>\n",
       "      <td>4</td>\n",
       "      <td>4</td>\n",
       "      <td>B.N.2</td>\n",
       "      <td>batchnorm</td>\n",
       "      <td></td>\n",
       "      <td></td>\n",
       "      <td>Relu</td>\n",
       "      <td>13</td>\n",
       "      <td>(0, 2)</td>\n",
       "      <td>0</td>\n",
       "    </tr>\n",
       "    <tr>\n",
       "      <td>5</td>\n",
       "      <td>5</td>\n",
       "      <td>F.C.3</td>\n",
       "      <td>fc</td>\n",
       "      <td>(13, 1)</td>\n",
       "      <td></td>\n",
       "      <td>Identity</td>\n",
       "      <td>1</td>\n",
       "      <td>(13, 0)</td>\n",
       "      <td>13</td>\n",
       "    </tr>\n",
       "    <tr>\n",
       "      <td>6</td>\n",
       "      <td>6</td>\n",
       "      <td>Survival1</td>\n",
       "      <td>survival</td>\n",
       "      <td></td>\n",
       "      <td></td>\n",
       "      <td>None</td>\n",
       "      <td>1</td>\n",
       "      <td>(0, 0)</td>\n",
       "      <td>0</td>\n",
       "    </tr>\n",
       "    <tr>\n",
       "      <td>7</td>\n",
       "      <td></td>\n",
       "      <td></td>\n",
       "      <td></td>\n",
       "      <td></td>\n",
       "      <td></td>\n",
       "      <td></td>\n",
       "      <td></td>\n",
       "      <td>Total number of parameters</td>\n",
       "      <td>Total FLOPS</td>\n",
       "    </tr>\n",
       "    <tr>\n",
       "      <td>8</td>\n",
       "      <td>Summary</td>\n",
       "      <td></td>\n",
       "      <td></td>\n",
       "      <td></td>\n",
       "      <td></td>\n",
       "      <td></td>\n",
       "      <td></td>\n",
       "      <td>186</td>\n",
       "      <td>182</td>\n",
       "    </tr>\n",
       "  </tbody>\n",
       "</table>\n",
       "</div>"
      ],
      "text/plain": [
       "  Layer Id      Layer       Type Kernel Size Stride Activation Output Size  \\\n",
       "0        0     Input1      input                          None           0   \n",
       "1        1      F.C.1         fc     (0, 13)          Identity          13   \n",
       "2        2      B.N.1  batchnorm                          Relu          13   \n",
       "3        3      F.C.2         fc    (13, 13)          Identity          13   \n",
       "4        4      B.N.2  batchnorm                          Relu          13   \n",
       "5        5      F.C.3         fc     (13, 1)          Identity           1   \n",
       "6        6  Survival1   survival                          None           1   \n",
       "7                                                                            \n",
       "8  Summary                                                                   \n",
       "\n",
       "         Number of Parameters FLOPS(forward pass)  \n",
       "0                      (0, 0)                   0  \n",
       "1                      (0, 0)                   0  \n",
       "2                      (0, 2)                   0  \n",
       "3                    (169, 0)                 169  \n",
       "4                      (0, 2)                   0  \n",
       "5                     (13, 0)                  13  \n",
       "6                      (0, 0)                   0  \n",
       "7  Total number of parameters         Total FLOPS  \n",
       "8                         186                 182  "
      ]
     },
     "execution_count": 13,
     "metadata": {},
     "output_type": "execute_result"
    }
   ],
   "source": [
    "deepSurvModel.print_summary()"
   ]
  },
  {
   "cell_type": "markdown",
   "metadata": {},
   "source": [
    "### 3.2 Train deep survival model <a name=\"model_training\"></a>"
   ]
  },
  {
   "cell_type": "markdown",
   "metadata": {},
   "source": [
    "#### Specify  the momentum SGD optimizer and a learning rate scheduler"
   ]
  },
  {
   "cell_type": "code",
   "execution_count": 14,
   "metadata": {},
   "outputs": [
    {
     "name": "stdout",
     "output_type": "stream",
     "text": [
      "The following argument(s) learning_rate, gamma, step_size, power are overwritten by the according arguments specified in lr_scheduler.\n"
     ]
    }
   ],
   "source": [
    "lr_scheduler = ReduceLROnPlateau(conn=s, cool_down_iters=3, gamma=0.8, learning_rate=0.001, patience=5)\n",
    "solver = MomentumSolver(lr_scheduler=lr_scheduler,\n",
    "                        momentum=0.9,\n",
    "                        clip_grad_max = 100,\n",
    "                        clip_grad_min = -100)\n",
    "optimizer = Optimizer(algorithm=solver, mini_batch_size=400, log_level=2, max_epochs=100, reg_l2=0.001)"
   ]
  },
  {
   "cell_type": "markdown",
   "metadata": {},
   "source": [
    "####  Train deep survival model with momentum SGD"
   ]
  },
  {
   "cell_type": "code",
   "execution_count": 15,
   "metadata": {},
   "outputs": [
    {
     "name": "stdout",
     "output_type": "stream",
     "text": [
      "deepsurv_model\n",
      "NOTE: Training from scratch.\n",
      "NOTE:  Synchronous mode is enabled.\n",
      "NOTE:  The total number of parameters is 482.\n",
      "NOTE:  The approximate memory cost is 1.00 MB.\n",
      "NOTE:  Loading weights cost       0.00 (s).\n",
      "NOTE:  Initializing each layer cost       0.01 (s).\n",
      "NOTE:  The total number of threads on each worker is 2.\n",
      "NOTE:  The total mini-batch size per thread on each worker is 400.\n",
      "NOTE:  The maximum mini-batch size across all workers for the synchronous mode is 800.\n",
      "NOTE:  Target variable: y\n",
      "NOTE:  Number of input variables:     8\n",
      "NOTE:  Number of nominal input variables:      2\n",
      "NOTE:  Number of numeric input variables:      6\n",
      "NOTE:  Epoch Learning Rate        Loss   Time(s)\n",
      "NOTE:  0         0.001           1.184     0.03\n",
      "NOTE:  1         0.001           1.165     0.03\n",
      "NOTE:  2         0.001           1.116     0.03\n",
      "NOTE:  3         0.001           1.119     0.03\n",
      "NOTE:  4         0.001           1.129     0.03\n",
      "NOTE:  5         0.001           1.097     0.03\n",
      "NOTE:  6         0.001           1.096     0.03\n",
      "NOTE:  7         0.001           1.064     0.03\n",
      "NOTE:  8         0.001           1.075     0.03\n",
      "NOTE:  9         0.001           1.085     0.03\n",
      "NOTE:  10        0.001           1.069     0.03\n",
      "NOTE:  11        0.001            1.05     0.03\n",
      "NOTE:  12        0.001           1.036     0.03\n",
      "NOTE:  13        0.001           1.014     0.03\n",
      "NOTE:  14        0.001           1.041     0.03\n",
      "NOTE:  15        0.001           1.027     0.03\n",
      "NOTE:  16        0.001           1.031     0.03\n",
      "NOTE:  17        0.001            1.01     0.03\n",
      "NOTE:  18        0.001           1.016     0.03\n",
      "NOTE:  19        0.001               1     0.03\n",
      "NOTE:  20        0.001          0.9955     0.03\n",
      "NOTE:  21        0.001          0.9879     0.03\n",
      "NOTE:  22        0.001          0.9958     0.03\n",
      "NOTE:  23        0.001          0.9601     0.03\n",
      "NOTE:  24        0.001          0.9658     0.02\n",
      "NOTE:  25        0.001           1.012     0.03\n",
      "NOTE:  26        0.001          0.9603     0.03\n",
      "NOTE:  27        0.001          0.9741     0.03\n",
      "NOTE:  28        0.001           0.959     0.03\n",
      "NOTE:  29        0.001          0.9427     0.03\n",
      "NOTE:  30        0.001           0.957     0.03\n",
      "NOTE:  31        0.001          0.9598     0.03\n",
      "NOTE:  32        0.001          0.9518     0.03\n",
      "NOTE:  33        0.001          0.9601     0.03\n",
      "NOTE:  34        0.001          0.9524     0.03\n",
      "NOTE:  35        0.001          0.9594     0.03\n",
      "NOTE:  36       0.0008          0.9482     0.03\n",
      "NOTE:  37       0.0008           0.981     0.03\n",
      "NOTE:  38       0.0008          0.9356     0.03\n",
      "NOTE:  39       0.0008          0.9387     0.03\n",
      "NOTE:  40       0.0008          0.9559     0.03\n",
      "NOTE:  41       0.0008          0.9737     0.03\n",
      "NOTE:  42       0.0008          0.9423     0.03\n",
      "NOTE:  43       0.0008          0.9059     0.03\n",
      "NOTE:  44       0.0008          0.9525     0.03\n",
      "NOTE:  45       0.0008          0.9595     0.03\n",
      "NOTE:  46       0.0008          0.9159     0.03\n",
      "NOTE:  47       0.0008          0.8978     0.03\n",
      "NOTE:  48       0.0008          0.9245     0.03\n",
      "NOTE:  49       0.0008          0.9509     0.03\n",
      "NOTE:  50       0.0008          0.9306     0.03\n",
      "NOTE:  51       0.0008          0.9197     0.03\n",
      "NOTE:  52       0.0008          0.9462     0.03\n",
      "NOTE:  53       0.0008          0.8971     0.03\n",
      "NOTE:  54       0.0008          0.9067     0.03\n",
      "NOTE:  55       0.0008          0.9241     0.03\n",
      "NOTE:  56       0.0008           0.946     0.03\n",
      "NOTE:  57       0.0008          0.9245     0.03\n",
      "NOTE:  58       0.0008          0.9325     0.03\n",
      "NOTE:  59       0.0008          0.9051     0.03\n",
      "NOTE:  60       0.0006          0.9031     0.03\n",
      "NOTE:  61       0.0006          0.9225     0.03\n",
      "NOTE:  62       0.0006          0.9324     0.03\n",
      "NOTE:  63       0.0006          0.9281     0.03\n",
      "NOTE:  64       0.0006          0.8874     0.03\n",
      "NOTE:  65       0.0006          0.9191     0.03\n",
      "NOTE:  66       0.0006          0.9484     0.03\n",
      "NOTE:  67       0.0006          0.9081     0.03\n",
      "NOTE:  68       0.0006          0.9113     0.03\n",
      "NOTE:  69       0.0006          0.8922     0.03\n",
      "NOTE:  70       0.0006          0.9212     0.03\n",
      "NOTE:  71       0.0005          0.8874     0.03\n",
      "NOTE:  72       0.0005          0.8979     0.03\n",
      "NOTE:  73       0.0005           0.932     0.02\n",
      "NOTE:  74       0.0005          0.9383     0.03\n",
      "NOTE:  75       0.0005          0.9198     0.03\n",
      "NOTE:  76       0.0005          0.9141     0.03\n",
      "NOTE:  77       0.0005          0.8929     0.03\n",
      "NOTE:  78       0.0005          0.8888     0.03\n",
      "NOTE:  79       0.0005           0.892     0.03\n",
      "NOTE:  80       0.0004          0.9128     0.03\n",
      "NOTE:  81       0.0004          0.8818     0.03\n",
      "NOTE:  82       0.0004          0.8976     0.03\n",
      "NOTE:  83       0.0004          0.8966     0.03\n",
      "NOTE:  84       0.0004          0.9247     0.03\n",
      "NOTE:  85       0.0004          0.9236     0.03\n",
      "NOTE:  86       0.0004          0.9182     0.03\n",
      "NOTE:  87       0.0004          0.8976     0.03\n",
      "NOTE:  88       0.0004          0.9364     0.03\n",
      "NOTE:  89       0.0003          0.9177     0.03\n",
      "NOTE:  90       0.0003          0.8636     0.03\n",
      "NOTE:  91       0.0003          0.8786     0.04\n",
      "NOTE:  92       0.0003          0.8763     0.03\n",
      "NOTE:  93       0.0003          0.8742     0.03\n",
      "NOTE:  94       0.0003           0.959     0.03\n",
      "NOTE:  95       0.0003          0.9158     0.02\n",
      "NOTE:  96       0.0003          0.9062     0.02\n",
      "NOTE:  97       0.0003          0.8934     0.03\n",
      "NOTE:  98       0.0003          0.9141     0.03\n",
      "NOTE:  99       0.0003           0.905     0.02\n",
      "NOTE:  The optimization reached the maximum number of epochs.\n",
      "NOTE:  The total time is       2.68 (s).\n"
     ]
    }
   ],
   "source": [
    "print(deepSurvModel.model_name)\n",
    "deepsurvTrain_res = deepSurvModel.fit(data=trainTbl,\n",
    "                                      data_specs=[dict(layer='input1',type='numnom', data=inputVars,nominals=nominals),\n",
    "                                                  dict(layer='survival1',type='numnom',data='y')],\n",
    "                                      n_threads= 2,\n",
    "                                      record_seed=13309,\n",
    "                                      optimizer=optimizer)"
   ]
  },
  {
   "cell_type": "markdown",
   "metadata": {},
   "source": [
    "#### Visualize training loss history to check model convergence"
   ]
  },
  {
   "cell_type": "code",
   "execution_count": 16,
   "metadata": {},
   "outputs": [
    {
     "data": {
      "text/plain": [
       "[<matplotlib.lines.Line2D at 0x1a9a7f8dd08>]"
      ]
     },
     "execution_count": 16,
     "metadata": {},
     "output_type": "execute_result"
    },
    {
     "data": {
      "image/png": "[encoded data removed]",
      "text/plain": [
       "<Figure size 432x288 with 1 Axes>"
      ]
     },
     "metadata": {
      "needs_background": "light"
     },
     "output_type": "display_data"
    }
   ],
   "source": [
    "plt.plot(deepsurvTrain_res[\"OptIterHistory\"][[\"Loss\"]])"
   ]
  },
  {
   "cell_type": "markdown",
   "metadata": {},
   "source": [
    "### 3.3 Build [Cox proportional hazards model](https://en.wikipedia.org/wiki/Proportional_hazards_model)\n",
    "- "
   ]
  },
  {
   "cell_type": "code",
   "execution_count": 17,
   "metadata": {},
   "outputs": [
    {
     "name": "stdout",
     "output_type": "stream",
     "text": [
      "NOTE: Input layer added.\n",
      "NOTE: Fully-connected layer added.\n",
      "NOTE: Survival layer added.\n",
      "NOTE: Model compiled successfully.\n"
     ]
    }
   ],
   "source": [
    "modelName='cox_model';\n",
    "coxModel = Sequential(s, model_table=modelName)\n",
    "coxModel.add(InputLayer(std='STD'))\n",
    "coxModel.add(Dense(n=1, act='identity', include_bias=False))\n",
    "coxModel.add(Survival())"
   ]
  },
  {
   "cell_type": "code",
   "execution_count": 18,
   "metadata": {},
   "outputs": [
    {
     "data": {
      "image/svg+xml": [
       "<?xml version=\"1.0\" encoding=\"UTF-8\" standalone=\"no\"?>\r\n",
       "<!DOCTYPE svg PUBLIC \"-//W3C//DTD SVG 1.1//EN\"\r\n",
       " \"http://www.w3.org/Graphics/SVG/1.1/DTD/svg11.dtd\">\r\n",
       "<!-- Generated by graphviz version 2.38.0 (20140413.2041)\r\n",
       " -->\r\n",
       "<!-- Title: cox_model Pages: 1 -->\r\n",
       "<svg width=\"161pt\" height=\"171pt\"\r\n",
       " viewBox=\"0.00 0.00 161.00 171.00\" xmlns=\"http://www.w3.org/2000/svg\" xmlns:xlink=\"http://www.w3.org/1999/xlink\">\r\n",
       "<g id=\"graph0\" class=\"graph\" transform=\"scale(1 1) rotate(0) translate(4 167)\">\r\n",
       "<title>cox_model</title>\r\n",
       "<polygon fill=\"white\" stroke=\"none\" points=\"-4,4 -4,-167 157,-167 157,4 -4,4\"/>\r\n",
       "<!-- Input1 -->\r\n",
       "<g id=\"node1\" class=\"node\"><title>Input1</title>\r\n",
       "<polygon fill=\"#3288bd\" fill-opacity=\"0.250980\" stroke=\"#3288bd\" points=\"23,-140.5 23,-162.5 130,-162.5 130,-140.5 23,-140.5\"/>\r\n",
       "<text text-anchor=\"middle\" x=\"76.5\" y=\"-147.8\" font-family=\"Helvetica,sans-Serif\" font-size=\"14.00\">Input1(input)</text>\r\n",
       "</g>\r\n",
       "<!-- F.C.1 -->\r\n",
       "<g id=\"node2\" class=\"node\"><title>F.C.1</title>\r\n",
       "<polygon fill=\"#ffffbf\" fill-opacity=\"0.250980\" stroke=\"#aeae82\" points=\"20.5,-70.5 20.5,-92.5 132.5,-92.5 132.5,-70.5 20.5,-70.5\"/>\r\n",
       "<text text-anchor=\"middle\" x=\"76.5\" y=\"-77.8\" font-family=\"Helvetica,sans-Serif\" font-size=\"14.00\">0x1 F.C.1(fc)</text>\r\n",
       "</g>\r\n",
       "<!-- Input1&#45;&gt;F.C.1 -->\r\n",
       "<g id=\"edge1\" class=\"edge\"><title>Input1&#45;&gt;F.C.1</title>\r\n",
       "<path fill=\"none\" stroke=\"#5677f3\" d=\"M76.5,-140.466C76.5,-130.623 76.5,-115.327 76.5,-102.919\"/>\r\n",
       "<polygon fill=\"#5677f3\" stroke=\"#5677f3\" points=\"80.0001,-102.575 76.5,-92.5748 73.0001,-102.575 80.0001,-102.575\"/>\r\n",
       "<text text-anchor=\"middle\" x=\"82.5\" y=\"-114\" font-family=\"Helvetica,sans-Serif\" font-size=\"10.00\"> 0 </text>\r\n",
       "</g>\r\n",
       "<!-- Survival1 -->\r\n",
       "<g id=\"node3\" class=\"node\"><title>Survival1</title>\r\n",
       "<polygon fill=\"#9e0142\" fill-opacity=\"0.250980\" stroke=\"#9e0142\" points=\"0,-0.5 0,-22.5 153,-22.5 153,-0.5 0,-0.5\"/>\r\n",
       "<text text-anchor=\"middle\" x=\"76.5\" y=\"-7.8\" font-family=\"Helvetica,sans-Serif\" font-size=\"14.00\">1 Survival1(survival)</text>\r\n",
       "</g>\r\n",
       "<!-- F.C.1&#45;&gt;Survival1 -->\r\n",
       "<g id=\"edge2\" class=\"edge\"><title>F.C.1&#45;&gt;Survival1</title>\r\n",
       "<path fill=\"none\" stroke=\"#5677f3\" d=\"M76.5,-70.4664C76.5,-60.6231 76.5,-45.327 76.5,-32.9189\"/>\r\n",
       "<polygon fill=\"#5677f3\" stroke=\"#5677f3\" points=\"80.0001,-32.5748 76.5,-22.5748 73.0001,-32.5748 80.0001,-32.5748\"/>\r\n",
       "<text text-anchor=\"middle\" x=\"82.5\" y=\"-44\" font-family=\"Helvetica,sans-Serif\" font-size=\"10.00\"> 1 </text>\r\n",
       "</g>\r\n",
       "</g>\r\n",
       "</svg>\r\n"
      ],
      "text/plain": [
       "<graphviz.dot.Digraph at 0x1a9a7cd2e08>"
      ]
     },
     "execution_count": 18,
     "metadata": {},
     "output_type": "execute_result"
    }
   ],
   "source": [
    "coxModel.plot_network()"
   ]
  },
  {
   "cell_type": "code",
   "execution_count": 19,
   "metadata": {},
   "outputs": [
    {
     "data": {
      "text/html": [
       "<div>\n",
       "<style scoped>\n",
       "    .dataframe tbody tr th:only-of-type {\n",
       "        vertical-align: middle;\n",
       "    }\n",
       "\n",
       "    .dataframe tbody tr th {\n",
       "        vertical-align: top;\n",
       "    }\n",
       "\n",
       "    .dataframe thead th {\n",
       "        text-align: right;\n",
       "    }\n",
       "</style>\n",
       "<table border=\"1\" class=\"dataframe\">\n",
       "  <thead>\n",
       "    <tr style=\"text-align: right;\">\n",
       "      <th></th>\n",
       "      <th>Layer Id</th>\n",
       "      <th>Layer</th>\n",
       "      <th>Type</th>\n",
       "      <th>Kernel Size</th>\n",
       "      <th>Stride</th>\n",
       "      <th>Activation</th>\n",
       "      <th>Output Size</th>\n",
       "      <th>Number of Parameters</th>\n",
       "      <th>FLOPS(forward pass)</th>\n",
       "    </tr>\n",
       "  </thead>\n",
       "  <tbody>\n",
       "    <tr>\n",
       "      <td>0</td>\n",
       "      <td>0</td>\n",
       "      <td>Input1</td>\n",
       "      <td>input</td>\n",
       "      <td></td>\n",
       "      <td></td>\n",
       "      <td>None</td>\n",
       "      <td>0</td>\n",
       "      <td>(0, 0)</td>\n",
       "      <td>0</td>\n",
       "    </tr>\n",
       "    <tr>\n",
       "      <td>1</td>\n",
       "      <td>1</td>\n",
       "      <td>F.C.1</td>\n",
       "      <td>fc</td>\n",
       "      <td>(0, 1)</td>\n",
       "      <td></td>\n",
       "      <td>Identity</td>\n",
       "      <td>1</td>\n",
       "      <td>(0, 0)</td>\n",
       "      <td>0</td>\n",
       "    </tr>\n",
       "    <tr>\n",
       "      <td>2</td>\n",
       "      <td>2</td>\n",
       "      <td>Survival1</td>\n",
       "      <td>survival</td>\n",
       "      <td></td>\n",
       "      <td></td>\n",
       "      <td>None</td>\n",
       "      <td>1</td>\n",
       "      <td>(0, 0)</td>\n",
       "      <td>0</td>\n",
       "    </tr>\n",
       "    <tr>\n",
       "      <td>3</td>\n",
       "      <td></td>\n",
       "      <td></td>\n",
       "      <td></td>\n",
       "      <td></td>\n",
       "      <td></td>\n",
       "      <td></td>\n",
       "      <td></td>\n",
       "      <td>Total number of parameters</td>\n",
       "      <td>Total FLOPS</td>\n",
       "    </tr>\n",
       "    <tr>\n",
       "      <td>4</td>\n",
       "      <td>Summary</td>\n",
       "      <td></td>\n",
       "      <td></td>\n",
       "      <td></td>\n",
       "      <td></td>\n",
       "      <td></td>\n",
       "      <td></td>\n",
       "      <td>0</td>\n",
       "      <td>0</td>\n",
       "    </tr>\n",
       "  </tbody>\n",
       "</table>\n",
       "</div>"
      ],
      "text/plain": [
       "  Layer Id      Layer      Type Kernel Size Stride Activation Output Size  \\\n",
       "0        0     Input1     input                          None           0   \n",
       "1        1      F.C.1        fc      (0, 1)          Identity           1   \n",
       "2        2  Survival1  survival                          None           1   \n",
       "3                                                                           \n",
       "4  Summary                                                                  \n",
       "\n",
       "         Number of Parameters FLOPS(forward pass)  \n",
       "0                      (0, 0)                   0  \n",
       "1                      (0, 0)                   0  \n",
       "2                      (0, 0)                   0  \n",
       "3  Total number of parameters         Total FLOPS  \n",
       "4                           0                   0  "
      ]
     },
     "execution_count": 19,
     "metadata": {},
     "output_type": "execute_result"
    }
   ],
   "source": [
    "coxModel.print_summary()"
   ]
  },
  {
   "cell_type": "markdown",
   "metadata": {},
   "source": [
    "### 3.4Train Cox model"
   ]
  },
  {
   "cell_type": "code",
   "execution_count": 20,
   "metadata": {},
   "outputs": [
    {
     "name": "stdout",
     "output_type": "stream",
     "text": [
      "cox_model\n",
      "NOTE: Training from scratch.\n",
      "NOTE:  Synchronous mode is enabled.\n",
      "NOTE:  The total number of parameters is 19.\n",
      "NOTE:  The approximate memory cost is 1.00 MB.\n",
      "NOTE:  Loading weights cost       0.00 (s).\n",
      "NOTE:  Initializing each layer cost       0.01 (s).\n",
      "NOTE:  The total number of threads on each worker is 2.\n",
      "NOTE:  The total mini-batch size per thread on each worker is 400.\n",
      "NOTE:  The maximum mini-batch size across all workers for the synchronous mode is 800.\n",
      "NOTE:  Target variable: y\n",
      "NOTE:  Number of input variables:     8\n",
      "NOTE:  Number of nominal input variables:      2\n",
      "NOTE:  Number of numeric input variables:      6\n",
      "NOTE:  Epoch Learning Rate        Loss   Time(s)\n",
      "NOTE:  0         0.001           1.216     0.01\n",
      "NOTE:  1         0.001           1.199     0.01\n",
      "NOTE:  2         0.001           1.152     0.01\n",
      "NOTE:  3         0.001           1.156     0.01\n",
      "NOTE:  4         0.001           1.174     0.01\n",
      "NOTE:  5         0.001           1.137     0.01\n",
      "NOTE:  6         0.001           1.141     0.01\n",
      "NOTE:  7         0.001           1.113     0.01\n",
      "NOTE:  8         0.001           1.123     0.01\n",
      "NOTE:  9         0.001           1.142     0.01\n",
      "NOTE:  10        0.001           1.134     0.01\n",
      "NOTE:  11        0.001           1.114     0.01\n",
      "NOTE:  12        0.001           1.107     0.01\n",
      "NOTE:  13        0.001           1.091     0.01\n",
      "NOTE:  14        0.001           1.119     0.01\n",
      "NOTE:  15        0.001           1.111     0.01\n",
      "NOTE:  16        0.001           1.124     0.01\n",
      "NOTE:  17        0.001           1.098     0.01\n",
      "NOTE:  18        0.001           1.113     0.01\n",
      "NOTE:  19        0.001           1.093     0.01\n",
      "NOTE:  20       0.0008           1.093     0.01\n",
      "NOTE:  21       0.0008           1.081     0.01\n",
      "NOTE:  22       0.0008             1.1     0.01\n",
      "NOTE:  23       0.0008           1.064     0.01\n",
      "NOTE:  24       0.0008           1.073     0.01\n",
      "NOTE:  25       0.0008           1.119     0.01\n",
      "NOTE:  26       0.0008           1.073     0.01\n",
      "NOTE:  27       0.0008           1.088     0.01\n",
      "NOTE:  28       0.0008           1.071     0.01\n",
      "NOTE:  29       0.0008           1.052     0.01\n",
      "NOTE:  30       0.0008           1.068     0.01\n",
      "NOTE:  31       0.0008           1.072     0.01\n",
      "NOTE:  32       0.0008           1.068     0.01\n",
      "NOTE:  33       0.0008           1.083     0.01\n",
      "NOTE:  34       0.0008           1.074     0.01\n",
      "NOTE:  35       0.0008           1.074     0.01\n",
      "NOTE:  36       0.0006           1.071     0.01\n",
      "NOTE:  37       0.0006             1.1     0.01\n",
      "NOTE:  38       0.0006            1.06     0.01\n",
      "NOTE:  39       0.0006           1.058     0.01\n",
      "NOTE:  40       0.0006           1.076     0.01\n",
      "NOTE:  41       0.0006           1.101     0.01\n",
      "NOTE:  42       0.0006           1.067     0.01\n",
      "NOTE:  43       0.0006           1.034     0.01\n",
      "NOTE:  44       0.0006           1.087     0.01\n",
      "NOTE:  45       0.0006           1.087     0.01\n",
      "NOTE:  46       0.0006            1.05     0.01\n",
      "NOTE:  47       0.0006           1.033     0.01\n",
      "NOTE:  48       0.0006           1.058     0.01\n",
      "NOTE:  49       0.0006           1.086     0.01\n",
      "NOTE:  50       0.0006           1.066     0.01\n",
      "NOTE:  51       0.0006           1.056     0.01\n",
      "NOTE:  52       0.0006           1.083     0.01\n",
      "NOTE:  53       0.0006           1.032     0.01\n",
      "NOTE:  54       0.0006           1.049     0.01\n",
      "NOTE:  55       0.0006           1.051     0.01\n",
      "NOTE:  56       0.0006           1.081     0.01\n",
      "NOTE:  57       0.0006           1.068     0.01\n",
      "NOTE:  58       0.0006           1.079     0.01\n",
      "NOTE:  59       0.0006           1.045     0.01\n",
      "NOTE:  60       0.0005           1.053     0.01\n",
      "NOTE:  61       0.0005           1.064     0.01\n",
      "NOTE:  62       0.0005           1.074     0.01\n",
      "NOTE:  63       0.0005           1.066     0.01\n",
      "NOTE:  64       0.0005           1.038     0.01\n",
      "NOTE:  65       0.0005           1.062     0.01\n",
      "NOTE:  66       0.0005           1.091     0.01\n",
      "NOTE:  67       0.0005           1.056     0.01\n",
      "NOTE:  68       0.0005           1.057     0.01\n",
      "NOTE:  69       0.0004           1.037     0.01\n",
      "NOTE:  70       0.0004           1.079     0.01\n",
      "NOTE:  71       0.0004           1.042     0.01\n",
      "NOTE:  72       0.0004           1.051     0.01\n",
      "NOTE:  73       0.0004           1.079     0.01\n",
      "NOTE:  74       0.0004            1.08     0.01\n",
      "NOTE:  75       0.0004           1.077     0.01\n",
      "NOTE:  76       0.0004           1.064     0.01\n",
      "NOTE:  77       0.0004           1.045     0.01\n",
      "NOTE:  78       0.0003           1.045     0.01\n",
      "NOTE:  79       0.0003           1.057     0.01\n",
      "NOTE:  80       0.0003            1.07     0.01\n",
      "NOTE:  81       0.0003           1.036     0.01\n",
      "NOTE:  82       0.0003           1.038     0.01\n",
      "NOTE:  83       0.0003           1.048     0.01\n",
      "NOTE:  84       0.0003           1.077     0.01\n",
      "NOTE:  85       0.0003           1.068     0.01\n",
      "NOTE:  86       0.0003           1.063     0.01\n",
      "NOTE:  87       0.0003            1.05     0.01\n",
      "NOTE:  88       0.0003           1.097     0.01\n",
      "NOTE:  89       0.0003           1.072     0.01\n",
      "NOTE:  90       0.0003           1.009     0.01\n",
      "NOTE:  91       0.0003            1.03     0.01\n",
      "NOTE:  92       0.0003           1.035     0.01\n",
      "NOTE:  93       0.0003           1.027     0.01\n",
      "NOTE:  94       0.0003           1.106     0.01\n",
      "NOTE:  95       0.0003           1.081     0.01\n",
      "NOTE:  96       0.0003           1.064     0.01\n",
      "NOTE:  97       0.0002           1.047     0.01\n",
      "NOTE:  98       0.0002           1.067     0.01\n",
      "NOTE:  99       0.0002            1.06     0.01\n",
      "NOTE:  The optimization reached the maximum number of epochs.\n",
      "NOTE:  The total time is       1.18 (s).\n"
     ]
    }
   ],
   "source": [
    "# start to train\n",
    "print(coxModel.model_name)\n",
    "coxTrain_res = coxModel.fit(data=trainTbl,\n",
    "                            data_specs=[dict(layer='input1', type='numnom', data=(inputVars), nominals=nominals),\n",
    "                                        dict(layer='survival1', type='numnom', data='y')],\n",
    "                            n_threads= 2,\n",
    "                            record_seed=13309,\n",
    "                            optimizer=optimizer)"
   ]
  },
  {
   "cell_type": "code",
   "execution_count": 21,
   "metadata": {},
   "outputs": [
    {
     "data": {
      "image/png": "[encoded data removed]",
      "text/plain": [
       "<Figure size 432x288 with 1 Axes>"
      ]
     },
     "metadata": {
      "needs_background": "light"
     },
     "output_type": "display_data"
    }
   ],
   "source": [
    "plt.plot(coxTrain_res[\"OptIterHistory\"][[\"Loss\"]])\n",
    "plt.show()"
   ]
  },
  {
   "cell_type": "markdown",
   "metadata": {},
   "source": [
    "## 4. Evaluate  Model Performance <a name=\"evaluation\"></a> "
   ]
  },
  {
   "cell_type": "markdown",
   "metadata": {},
   "source": [
    "### 4.1 Overall model predictive performance in terms of C-Index on test data\n",
    "\n",
    "- C-index (Concordance index) is a commonly used metric to evaluate and compare survival model's discriminative power.\n",
    "- It is calculated as the fraction of pairs of observations whose observed and predicted outcomes agree among all possible pairs. That is, the longer the observed survival time is, the higher the predicted survival probability is.\n",
    "- The higher the C-index is, the better the model is."
   ]
  },
  {
   "cell_type": "markdown",
   "metadata": {},
   "source": [
    "#### C-Index for Cox survival model"
   ]
  },
  {
   "cell_type": "code",
   "execution_count": 22,
   "metadata": {},
   "outputs": [
    {
     "name": "stdout",
     "output_type": "stream",
     "text": [
      "NOTE: Due to data distribution, miniBatchSize has been limited to 66.\n",
      "NOTE:  Loading weights cost       0.00 (s).\n",
      "NOTE:  Initializing each layer cost       0.01 (s).\n",
      "NOTE:  Batch nUsed Learning Rate        Loss    C-Index    Correct  Incorrect       Tied   Time(s) (Validation)\n",
      "NOTE:      0  4500        0           0.6416     0.8479  1.751e+06  3.141e+05          0     0.00\n"
     ]
    },
    {
     "data": {
      "text/html": [
       "<div class=\"cas-results-key\"><b>&#167; ScoreInfo</b></div>\n",
       "<div class=\"cas-results-body\">\n",
       "<div>\n",
       "<style scoped>\n",
       "    .dataframe tbody tr th:only-of-type {\n",
       "        vertical-align: middle;\n",
       "    }\n",
       "\n",
       "    .dataframe tbody tr th {\n",
       "        vertical-align: top;\n",
       "    }\n",
       "\n",
       "    .dataframe thead th {\n",
       "        text-align: right;\n",
       "    }\n",
       "</style>\n",
       "<table border=\"1\" class=\"dataframe\">\n",
       "  <thead>\n",
       "    <tr style=\"text-align: right;\">\n",
       "      <th title=\"\"></th>\n",
       "      <th title=\"Descr\">Descr</th>\n",
       "      <th title=\"Value\">Value</th>\n",
       "    </tr>\n",
       "  </thead>\n",
       "  <tbody>\n",
       "    <tr>\n",
       "      <td>0</td>\n",
       "      <td>Number of Observations Read</td>\n",
       "      <td>4500</td>\n",
       "    </tr>\n",
       "    <tr>\n",
       "      <td>1</td>\n",
       "      <td>Number of Observations Used</td>\n",
       "      <td>4500</td>\n",
       "    </tr>\n",
       "    <tr>\n",
       "      <td>2</td>\n",
       "      <td>Loss Error</td>\n",
       "      <td>0.641572</td>\n",
       "    </tr>\n",
       "  </tbody>\n",
       "</table>\n",
       "</div>\n",
       "</div>\n",
       "<div class=\"cas-results-key\"><hr/><b>&#167; CumHazard</b></div>\n",
       "<div class=\"cas-results-body\">\n",
       "<div>\n",
       "<style scoped>\n",
       "    .dataframe tbody tr th:only-of-type {\n",
       "        vertical-align: middle;\n",
       "    }\n",
       "\n",
       "    .dataframe tbody tr th {\n",
       "        vertical-align: top;\n",
       "    }\n",
       "\n",
       "    .dataframe thead th {\n",
       "        text-align: right;\n",
       "    }\n",
       "</style>\n",
       "<table border=\"1\" class=\"dataframe\">\n",
       "  <thead>\n",
       "    <tr style=\"text-align: right;\">\n",
       "      <th title=\"\"></th>\n",
       "      <th title=\"Time\">Time</th>\n",
       "      <th title=\"Cumulative hazard\">CumHaz</th>\n",
       "    </tr>\n",
       "  </thead>\n",
       "  <tbody>\n",
       "    <tr>\n",
       "      <td>0</td>\n",
       "      <td>2.0</td>\n",
       "      <td>0.002764</td>\n",
       "    </tr>\n",
       "    <tr>\n",
       "      <td>1</td>\n",
       "      <td>3.0</td>\n",
       "      <td>0.112246</td>\n",
       "    </tr>\n",
       "    <tr>\n",
       "      <td>2</td>\n",
       "      <td>4.0</td>\n",
       "      <td>0.252380</td>\n",
       "    </tr>\n",
       "    <tr>\n",
       "      <td>3</td>\n",
       "      <td>5.0</td>\n",
       "      <td>0.538084</td>\n",
       "    </tr>\n",
       "    <tr>\n",
       "      <td>4</td>\n",
       "      <td>6.0</td>\n",
       "      <td>0.685009</td>\n",
       "    </tr>\n",
       "  </tbody>\n",
       "</table>\n",
       "</div>\n",
       "</div>\n",
       "<div class=\"cas-results-key\"><hr/><b>&#167; OutputCasTables</b></div>\n",
       "<div class=\"cas-results-body\">\n",
       "<div>\n",
       "<style scoped>\n",
       "    .dataframe tbody tr th:only-of-type {\n",
       "        vertical-align: middle;\n",
       "    }\n",
       "\n",
       "    .dataframe tbody tr th {\n",
       "        vertical-align: top;\n",
       "    }\n",
       "\n",
       "    .dataframe thead th {\n",
       "        text-align: right;\n",
       "    }\n",
       "</style>\n",
       "<table border=\"1\" class=\"dataframe\">\n",
       "  <thead>\n",
       "    <tr style=\"text-align: right;\">\n",
       "      <th title=\"\"></th>\n",
       "      <th title=\"CAS Library\">casLib</th>\n",
       "      <th title=\"Name\">Name</th>\n",
       "      <th title=\"Number of Rows\">Rows</th>\n",
       "      <th title=\"Number of Columns\">Columns</th>\n",
       "      <th title=\"Table\">casTable</th>\n",
       "    </tr>\n",
       "  </thead>\n",
       "  <tbody>\n",
       "    <tr>\n",
       "      <td>0</td>\n",
       "      <td>CASUSER(aistatistics)</td>\n",
       "      <td>Valid_Res_2JI8Rb</td>\n",
       "      <td>4500</td>\n",
       "      <td>13</td>\n",
       "      <td>CASTable('Valid_Res_2JI8Rb', caslib='CASUSER(g...</td>\n",
       "    </tr>\n",
       "  </tbody>\n",
       "</table>\n",
       "</div>\n",
       "</div>\n",
       "<div class=\"cas-output-area\"></div>\n",
       "<p class=\"cas-results-performance\"><small><span class=\"cas-elapsed\">elapsed 0.0371s</span> &#183; <span class=\"cas-user\">user 0.0572s</span> &#183; <span class=\"cas-sys\">sys 0.0502s</span> &#183; <span class=\"cas-memory\">mem 156MB</span></small></p>"
      ],
      "text/plain": [
       "[ScoreInfo]\n",
       "\n",
       "                          Descr         Value\n",
       " 0  Number of Observations Read          4500\n",
       " 1  Number of Observations Used          4500\n",
       " 2                   Loss Error      0.641572\n",
       "\n",
       "[CumHazard]\n",
       "\n",
       "    Time    CumHaz\n",
       " 0   2.0  0.002764\n",
       " 1   3.0  0.112246\n",
       " 2   4.0  0.252380\n",
       " 3   5.0  0.538084\n",
       " 4   6.0  0.685009\n",
       "\n",
       "[OutputCasTables]\n",
       "\n",
       "             casLib              Name  Rows  Columns  \\\n",
       " 0  CASUSER(aistatistics)  Valid_Res_2JI8Rb  4500       13   \n",
       " \n",
       "                                             casTable  \n",
       " 0  CASTable('Valid_Res_2JI8Rb', caslib='CASUSER(g...  \n",
       "\n",
       "+ Elapsed: 0.0371s, user: 0.0572s, sys: 0.0502s, mem: 156mb"
      ]
     },
     "execution_count": 22,
     "metadata": {},
     "output_type": "execute_result"
    }
   ],
   "source": [
    "# specify log_level=4 to compute C-Index for Cox model\n",
    "coxModel.predict(testTbl,buffer_size=10000,log_level=4)"
   ]
  },
  {
   "cell_type": "markdown",
   "metadata": {},
   "source": [
    "#### C-Index for deep survival model"
   ]
  },
  {
   "cell_type": "code",
   "execution_count": 23,
   "metadata": {},
   "outputs": [
    {
     "name": "stdout",
     "output_type": "stream",
     "text": [
      "NOTE: Due to data distribution, miniBatchSize has been limited to 66.\n",
      "NOTE:  Loading weights cost       0.00 (s).\n",
      "NOTE:  Initializing each layer cost       0.01 (s).\n",
      "NOTE:  Batch nUsed Learning Rate        Loss    C-Index    Correct  Incorrect       Tied   Time(s) (Validation)\n",
      "NOTE:      0  4500        0           0.4881     0.9273  1.915e+06  1.501e+05          0     0.00\n"
     ]
    },
    {
     "data": {
      "text/html": [
       "<div class=\"cas-results-key\"><b>&#167; ScoreInfo</b></div>\n",
       "<div class=\"cas-results-body\">\n",
       "<div>\n",
       "<style scoped>\n",
       "    .dataframe tbody tr th:only-of-type {\n",
       "        vertical-align: middle;\n",
       "    }\n",
       "\n",
       "    .dataframe tbody tr th {\n",
       "        vertical-align: top;\n",
       "    }\n",
       "\n",
       "    .dataframe thead th {\n",
       "        text-align: right;\n",
       "    }\n",
       "</style>\n",
       "<table border=\"1\" class=\"dataframe\">\n",
       "  <thead>\n",
       "    <tr style=\"text-align: right;\">\n",
       "      <th title=\"\"></th>\n",
       "      <th title=\"Descr\">Descr</th>\n",
       "      <th title=\"Value\">Value</th>\n",
       "    </tr>\n",
       "  </thead>\n",
       "  <tbody>\n",
       "    <tr>\n",
       "      <td>0</td>\n",
       "      <td>Number of Observations Read</td>\n",
       "      <td>4500</td>\n",
       "    </tr>\n",
       "    <tr>\n",
       "      <td>1</td>\n",
       "      <td>Number of Observations Used</td>\n",
       "      <td>4500</td>\n",
       "    </tr>\n",
       "    <tr>\n",
       "      <td>2</td>\n",
       "      <td>Loss Error</td>\n",
       "      <td>0.48809</td>\n",
       "    </tr>\n",
       "  </tbody>\n",
       "</table>\n",
       "</div>\n",
       "</div>\n",
       "<div class=\"cas-results-key\"><hr/><b>&#167; CumHazard</b></div>\n",
       "<div class=\"cas-results-body\">\n",
       "<div>\n",
       "<style scoped>\n",
       "    .dataframe tbody tr th:only-of-type {\n",
       "        vertical-align: middle;\n",
       "    }\n",
       "\n",
       "    .dataframe tbody tr th {\n",
       "        vertical-align: top;\n",
       "    }\n",
       "\n",
       "    .dataframe thead th {\n",
       "        text-align: right;\n",
       "    }\n",
       "</style>\n",
       "<table border=\"1\" class=\"dataframe\">\n",
       "  <thead>\n",
       "    <tr style=\"text-align: right;\">\n",
       "      <th title=\"\"></th>\n",
       "      <th title=\"Time\">Time</th>\n",
       "      <th title=\"Cumulative hazard\">CumHaz</th>\n",
       "    </tr>\n",
       "  </thead>\n",
       "  <tbody>\n",
       "    <tr>\n",
       "      <td>0</td>\n",
       "      <td>2.0</td>\n",
       "      <td>0.000554</td>\n",
       "    </tr>\n",
       "    <tr>\n",
       "      <td>1</td>\n",
       "      <td>3.0</td>\n",
       "      <td>0.019787</td>\n",
       "    </tr>\n",
       "    <tr>\n",
       "      <td>2</td>\n",
       "      <td>4.0</td>\n",
       "      <td>0.068765</td>\n",
       "    </tr>\n",
       "    <tr>\n",
       "      <td>3</td>\n",
       "      <td>5.0</td>\n",
       "      <td>0.193226</td>\n",
       "    </tr>\n",
       "    <tr>\n",
       "      <td>4</td>\n",
       "      <td>6.0</td>\n",
       "      <td>0.277006</td>\n",
       "    </tr>\n",
       "  </tbody>\n",
       "</table>\n",
       "</div>\n",
       "</div>\n",
       "<div class=\"cas-results-key\"><hr/><b>&#167; OutputCasTables</b></div>\n",
       "<div class=\"cas-results-body\">\n",
       "<div>\n",
       "<style scoped>\n",
       "    .dataframe tbody tr th:only-of-type {\n",
       "        vertical-align: middle;\n",
       "    }\n",
       "\n",
       "    .dataframe tbody tr th {\n",
       "        vertical-align: top;\n",
       "    }\n",
       "\n",
       "    .dataframe thead th {\n",
       "        text-align: right;\n",
       "    }\n",
       "</style>\n",
       "<table border=\"1\" class=\"dataframe\">\n",
       "  <thead>\n",
       "    <tr style=\"text-align: right;\">\n",
       "      <th title=\"\"></th>\n",
       "      <th title=\"CAS Library\">casLib</th>\n",
       "      <th title=\"Name\">Name</th>\n",
       "      <th title=\"Number of Rows\">Rows</th>\n",
       "      <th title=\"Number of Columns\">Columns</th>\n",
       "      <th title=\"Table\">casTable</th>\n",
       "    </tr>\n",
       "  </thead>\n",
       "  <tbody>\n",
       "    <tr>\n",
       "      <td>0</td>\n",
       "      <td>CASUSER(aistatistics)</td>\n",
       "      <td>Valid_Res_ybjqtY</td>\n",
       "      <td>4500</td>\n",
       "      <td>13</td>\n",
       "      <td>CASTable('Valid_Res_ybjqtY', caslib='CASUSER(g...</td>\n",
       "    </tr>\n",
       "  </tbody>\n",
       "</table>\n",
       "</div>\n",
       "</div>\n",
       "<div class=\"cas-output-area\"></div>\n",
       "<p class=\"cas-results-performance\"><small><span class=\"cas-elapsed\">elapsed 0.0346s</span> &#183; <span class=\"cas-user\">user 0.0682s</span> &#183; <span class=\"cas-sys\">sys 0.039s</span> &#183; <span class=\"cas-memory\">mem 156MB</span></small></p>"
      ],
      "text/plain": [
       "[ScoreInfo]\n",
       "\n",
       "                          Descr         Value\n",
       " 0  Number of Observations Read          4500\n",
       " 1  Number of Observations Used          4500\n",
       " 2                   Loss Error       0.48809\n",
       "\n",
       "[CumHazard]\n",
       "\n",
       "    Time    CumHaz\n",
       " 0   2.0  0.000554\n",
       " 1   3.0  0.019787\n",
       " 2   4.0  0.068765\n",
       " 3   5.0  0.193226\n",
       " 4   6.0  0.277006\n",
       "\n",
       "[OutputCasTables]\n",
       "\n",
       "             casLib              Name  Rows  Columns  \\\n",
       " 0  CASUSER(aistatistics)  Valid_Res_ybjqtY  4500       13   \n",
       " \n",
       "                                             casTable  \n",
       " 0  CASTable('Valid_Res_ybjqtY', caslib='CASUSER(g...  \n",
       "\n",
       "+ Elapsed: 0.0346s, user: 0.0682s, sys: 0.039s, mem: 156mb"
      ]
     },
     "execution_count": 23,
     "metadata": {},
     "output_type": "execute_result"
    }
   ],
   "source": [
    "# specify log_level=4 to compute C-Index for deep survival model\n",
    "deepSurvModel.predict(testTbl,buffer_size=10000,log_level=4)"
   ]
  },
  {
   "cell_type": "markdown",
   "metadata": {},
   "source": [
    "### <center> Comparison of model predictive performance on test data in terms of C-Index</center>\n",
    "| Model | C-Index |\n",
    "| --- | --- | \n",
    "| Cox Model | 0.85 |\n",
    "| Deep Survival Model | 0.92 |"
   ]
  },
  {
   "cell_type": "markdown",
   "metadata": {},
   "source": [
    "The summary table above shows that the deep survival model provides more accurate prediction than the Cox model in terms of C-Index."
   ]
  },
  {
   "cell_type": "markdown",
   "metadata": {},
   "source": [
    "### 4.2 Understand the prediction from the survival models\n",
    "Both the deep survival model and the Cox proportion model assume that \n",
    "the [hazard function](https://en.wikipedia.org/wiki/Survival_analysis#Hazard_function_and_cumulative_hazard_function) for an individual with input $x$ is a product of two components:\n",
    "$$\\lambda(t | x) = \\lambda_{0}(t)  e^{h(x)},$$\n",
    "where $λ_0(t)$ is a baseline hazard function, and $r(x)=e^{h(x)}$ is a risk score.\n",
    "\n",
    "Since the  baseline hazard function $λ_0(t)$ is the same for all individuals, a higher risk score $r(x)$ leads to a higher hazard rate $\\lambda(t | x)$.\n",
    "\n",
    "The prediction from deep survival models is the risk score."
   ]
  },
  {
   "cell_type": "markdown",
   "metadata": {},
   "source": [
    "#### 4.2.1 Predict the employees who are likely to quit:\n",
    "\n",
    "After we train a deep survival model, we can use the model to predict risk scores. The risk scores can help predict the employees who are likely quit."
   ]
  },
  {
   "cell_type": "code",
   "execution_count": 24,
   "metadata": {},
   "outputs": [
    {
     "name": "stdout",
     "output_type": "stream",
     "text": [
      "[ScoreInfo]\n",
      "\n",
      "                          Descr         Value\n",
      " 0  Number of Observations Read         10499\n",
      " 1  Number of Observations Used         10499\n",
      " 2                   Loss Error      0.154297\n",
      "\n",
      "[CumHazard]\n",
      "\n",
      "    Time    CumHaz\n",
      " 0   2.0  0.000615\n",
      " 1   3.0  0.019485\n",
      " 2   4.0  0.073414\n",
      " 3   5.0  0.197611\n",
      " 4   6.0  0.280324\n",
      "\n",
      "[OutputCasTables]\n",
      "\n",
      "             casLib              Name   Rows  Columns  \\\n",
      " 0  CASUSER(aistatistics)  Valid_Res_ybjqtY  10499       12   \n",
      " \n",
      "                                             casTable  \n",
      " 0  CASTable('Valid_Res_ybjqtY', caslib='CASUSER(g...  \n",
      "\n",
      "+ Elapsed: 0.0441s, user: 0.128s, sys: 0.0346s, mem: 156mb\n"
     ]
    },
    {
     "data": {
      "text/html": [
       "<div>\n",
       "<style scoped>\n",
       "    .dataframe tbody tr th:only-of-type {\n",
       "        vertical-align: middle;\n",
       "    }\n",
       "\n",
       "    .dataframe tbody tr th {\n",
       "        vertical-align: top;\n",
       "    }\n",
       "\n",
       "    .dataframe thead th {\n",
       "        text-align: right;\n",
       "    }\n",
       "</style>\n",
       "<table border=\"1\" class=\"dataframe\"><caption>Selected Rows from Table VALID_RES_YBJQTY</caption>\n",
       "  <thead>\n",
       "    <tr style=\"text-align: right;\">\n",
       "      <th title=\"\"></th>\n",
       "      <th title=\"satisfaction_level\">satisfaction_level</th>\n",
       "      <th title=\"last_evaluation\">last_evaluation</th>\n",
       "      <th title=\"number_projects\">number_projects</th>\n",
       "      <th title=\"average_montly_hours\">average_montly_hours</th>\n",
       "      <th title=\"time_spend_company\">time_spend_company</th>\n",
       "      <th title=\"work_accident\">work_accident</th>\n",
       "      <th title=\"left\">left</th>\n",
       "      <th title=\"promotion_last_5years\">promotion_last_5years</th>\n",
       "      <th title=\"department\">department</th>\n",
       "      <th title=\"salary\">salary</th>\n",
       "      <th title=\"y\">y</th>\n",
       "      <th title=\"id\">id</th>\n",
       "      <th title=\"_DL_Pred_\">_DL_Pred_</th>\n",
       "    </tr>\n",
       "  </thead>\n",
       "  <tbody>\n",
       "    <tr>\n",
       "      <td>0</td>\n",
       "      <td>0.15</td>\n",
       "      <td>0.74</td>\n",
       "      <td>6.0</td>\n",
       "      <td>144.0</td>\n",
       "      <td>7.0</td>\n",
       "      <td>0.0</td>\n",
       "      <td>0.0</td>\n",
       "      <td>1.0</td>\n",
       "      <td>management</td>\n",
       "      <td>high</td>\n",
       "      <td>-7.0</td>\n",
       "      <td>0.0</td>\n",
       "      <td>0.258654</td>\n",
       "    </tr>\n",
       "    <tr>\n",
       "      <td>1</td>\n",
       "      <td>0.09</td>\n",
       "      <td>0.83</td>\n",
       "      <td>6.0</td>\n",
       "      <td>282.0</td>\n",
       "      <td>4.0</td>\n",
       "      <td>0.0</td>\n",
       "      <td>1.0</td>\n",
       "      <td>0.0</td>\n",
       "      <td>technical</td>\n",
       "      <td>medium</td>\n",
       "      <td>4.0</td>\n",
       "      <td>1.0</td>\n",
       "      <td>7.401008</td>\n",
       "    </tr>\n",
       "    <tr>\n",
       "      <td>2</td>\n",
       "      <td>0.45</td>\n",
       "      <td>0.46</td>\n",
       "      <td>2.0</td>\n",
       "      <td>130.0</td>\n",
       "      <td>3.0</td>\n",
       "      <td>0.0</td>\n",
       "      <td>1.0</td>\n",
       "      <td>0.0</td>\n",
       "      <td>technical</td>\n",
       "      <td>low</td>\n",
       "      <td>3.0</td>\n",
       "      <td>2.0</td>\n",
       "      <td>36.366734</td>\n",
       "    </tr>\n",
       "    <tr>\n",
       "      <td>3</td>\n",
       "      <td>0.46</td>\n",
       "      <td>0.55</td>\n",
       "      <td>2.0</td>\n",
       "      <td>145.0</td>\n",
       "      <td>3.0</td>\n",
       "      <td>0.0</td>\n",
       "      <td>1.0</td>\n",
       "      <td>0.0</td>\n",
       "      <td>technical</td>\n",
       "      <td>low</td>\n",
       "      <td>3.0</td>\n",
       "      <td>3.0</td>\n",
       "      <td>27.895868</td>\n",
       "    </tr>\n",
       "    <tr>\n",
       "      <td>4</td>\n",
       "      <td>0.45</td>\n",
       "      <td>0.87</td>\n",
       "      <td>2.0</td>\n",
       "      <td>268.0</td>\n",
       "      <td>4.0</td>\n",
       "      <td>1.0</td>\n",
       "      <td>0.0</td>\n",
       "      <td>0.0</td>\n",
       "      <td>IT</td>\n",
       "      <td>low</td>\n",
       "      <td>-4.0</td>\n",
       "      <td>4.0</td>\n",
       "      <td>0.603807</td>\n",
       "    </tr>\n",
       "  </tbody>\n",
       "</table>\n",
       "</div>"
      ],
      "text/plain": [
       "Selected Rows from Table VALID_RES_YBJQTY\n",
       "\n",
       "   satisfaction_level  last_evaluation  number_projects  average_montly_hours  \\\n",
       "0                0.15             0.74              6.0                 144.0   \n",
       "1                0.09             0.83              6.0                 282.0   \n",
       "2                0.45             0.46              2.0                 130.0   \n",
       "3                0.46             0.55              2.0                 145.0   \n",
       "4                0.45             0.87              2.0                 268.0   \n",
       "\n",
       "   time_spend_company  work_accident  left  promotion_last_5years  department  \\\n",
       "0                 7.0            0.0   0.0                    1.0  management   \n",
       "1                 4.0            0.0   1.0                    0.0   technical   \n",
       "2                 3.0            0.0   1.0                    0.0   technical   \n",
       "3                 3.0            0.0   1.0                    0.0   technical   \n",
       "4                 4.0            1.0   0.0                    0.0          IT   \n",
       "\n",
       "   salary    y   id  _DL_Pred_  \n",
       "0    high -7.0  0.0   0.258654  \n",
       "1  medium  4.0  1.0   7.401008  \n",
       "2     low  3.0  2.0  36.366734  \n",
       "3     low  3.0  3.0  27.895868  \n",
       "4     low -4.0  4.0   0.603807  "
      ]
     },
     "execution_count": 24,
     "metadata": {},
     "output_type": "execute_result"
    }
   ],
   "source": [
    "# step 1: Obtain the baseline cumulative hazard function\n",
    "surv_model = deepSurvModel\n",
    "score_trainTbl = surv_model.predict(trainTbl)\n",
    "print(score_trainTbl)\n",
    "# step 2: predict hazard scores\n",
    "surv_model.predict(testTbl)\n",
    "predicted_hazard  = surv_model.valid_res_tbl\n",
    "predicted_hazard.head()"
   ]
  },
  {
   "cell_type": "markdown",
   "metadata": {},
   "source": [
    "### Plot predicted risk scores on test data set\n",
    "- Employees can be classified into two groups in terms of predicted risk scores: \n",
    "- High risk group with score>10 and low risk group with score<10. \n",
    "- Employees in the high risk group are more likely quit than those in the low risk group"
   ]
  },
  {
   "cell_type": "code",
   "execution_count": 25,
   "metadata": {},
   "outputs": [
    {
     "data": {
      "image/png": "[encoded data removed]",
      "text/plain": [
       "<Figure size 432x288 with 1 Axes>"
      ]
     },
     "metadata": {
      "needs_background": "light"
     },
     "output_type": "display_data"
    }
   ],
   "source": [
    "predicted_hazard[\"_DL_Pred_\"].hist(bins=10)\n",
    "plt.title(\"Histogram of predicted risk scores\")\n",
    "plt.show()"
   ]
  },
  {
   "cell_type": "markdown",
   "metadata": {},
   "source": [
    "#### 4.2.2 Predict when an employee is likely to quit through the predicted survival function\n",
    "We can use the predicted survival function to tell when an employee is likely to quit. And the survival function for given an individual can be obtained as follows:\n",
    "- Step 1. We score with the training data set to obtain the baseline cumulative hazards, and get the hazard score by scoring the individual.\n",
    "-  Step 2. By combining the baseline cumulative hazard function and the risk score, we can obtain the predicted survival function for an individual."
   ]
  },
  {
   "cell_type": "code",
   "execution_count": 26,
   "metadata": {},
   "outputs": [],
   "source": [
    "def dl_survival_function(df_baselineCumHazard, df_hazard, id=None):\n",
    "    # compute the estimated survival function for the deep survival model     \n",
    "    # id: identify column for observation    \n",
    "    if not isinstance(df_baselineCumHazard, SASDataFrame) and not isinstance(df_hazard, pd.DataFrame):\n",
    "        raise TypeError(\"inputs must be data frame!\")\n",
    "\n",
    "    survival = pd.DataFrame()\n",
    "    survival[\"Time\"] = df_baselineCumHazard[\"Time\"]\n",
    "    s = np.outer(-1*df_baselineCumHazard[\"CumHaz\"],df_hazard[\"_DL_Pred_\"])\n",
    "    s = np.exp(s)\n",
    "    # create column names with prefix id\n",
    "    if isinstance(id, str):   \n",
    "        idColumns = [id+'='+str(v) for v in df_hazard[id]]\n",
    "        s = pd.DataFrame(s,columns=idColumns)\n",
    "    else:\n",
    "        s = pd.DataFrame(s)             \n",
    "    survival = pd.concat([survival, s], axis=1)\n",
    "    return survival          "
   ]
  },
  {
   "cell_type": "markdown",
   "metadata": {},
   "source": [
    "#### For illustrative purpose, we compute the predicted survival function of two  employees: one is chosen from the high risk group and the other is chosen from the low risk group."
   ]
  },
  {
   "cell_type": "code",
   "execution_count": 27,
   "metadata": {},
   "outputs": [
    {
     "name": "stdout",
     "output_type": "stream",
     "text": [
      "An employee's id from the low risk group in the test data set: 6\n",
      "An employee's id from the high risk group in the test data set: 3\n"
     ]
    }
   ],
   "source": [
    "# step 1:\n",
    "df_hazard = predicted_hazard.to_frame()\n",
    "df_baselineCum_hazard= pd.DataFrame(score_trainTbl[\"CumHazard\"])\n",
    "\n",
    "# step 2:\n",
    "dl_survival = dl_survival_function(df_baselineCum_hazard, df_hazard, id=None)\n",
    "# id for risk groups based on deep learning model\n",
    "risk_cutoff = 10\n",
    "riskGroup = {\"low risk\":(df_hazard[df_hazard._DL_Pred_<risk_cutoff].id).reset_index(drop=True),\n",
    "             \"high risk\": df_hazard[df_hazard._DL_Pred_>risk_cutoff].id.reset_index(drop=True)}\n",
    "low = riskGroup[\"low risk\"]\n",
    "df_low = (df_hazard.loc[df_hazard[\"id\"].isin(low)])\n",
    "# employees who left the company\n",
    "df_low = df_low[df_low.left==1]\n",
    "\n",
    "high = riskGroup[\"high risk\"]\n",
    "df_high = (df_hazard.loc[df_hazard[\"id\"].isin(high)])\n",
    "df_high = df_high[df_high.left==1] # employees who left the company\n",
    "id = [df_low.id.iloc[1],df_high.id.iloc[1]] ##\n",
    "print(\"An employee's id from the low risk group in the test data set: {}\".format(int(id[0])))\n",
    "print(\"An employee's id from the high risk group in the test data set: {}\".format(int(id[1])))"
   ]
  },
  {
   "cell_type": "markdown",
   "metadata": {},
   "source": [
    "#### Plot and compare predicted survival functions between individuals from different risk groups"
   ]
  },
  {
   "cell_type": "code",
   "execution_count": 28,
   "metadata": {},
   "outputs": [],
   "source": [
    "def plot_survival(survival, hazard_df, modelName=None, id=None):\n",
    "    \n",
    "    colors=['red','blue']\n",
    "    if id is None:\n",
    "        id=[0,1]  \n",
    "        \n",
    "    eventTimes = list(df_hazard[hazard_df.id==id[0]].time_spend_company) + list(hazard_df[hazard_df.id==id[1]].time_spend_company)\n",
    "\n",
    "    print(\"Time spent in company for two employees:{} and {}\".format(int(eventTimes[0]),int(eventTimes[1])))\n",
    "    predHazard = list(hazard_df[hazard_df.id==id[0]]._DL_Pred_) +  list(hazard_df[hazard_df.id==id[1]]._DL_Pred_)\n",
    "    \n",
    "    print(\"Predicted hazards for two employees:\",predHazard)    \n",
    "    fig, ax = plt.subplots(figsize=(15, 8))\n",
    "    plt.plot(survival.Time, survival[id[0]],color=colors[0],label='low risk')\n",
    "    plt.plot(survival.Time, survival[id[1]],color=colors[1],label='high risk')\n",
    "    # Actual time\n",
    "    plt.axvline(x=eventTimes[0],  color=colors[0], ls ='--')\n",
    "    plt.axvline(x=eventTimes[1],  color=colors[1], ls ='--')\n",
    "    i=0\n",
    "    ax.annotate('T={:.1f}'.format(eventTimes[0]), xy=(eventTimes[0], 0.5*(1.+0.2*i)),\n",
    "            xytext=(eventTimes[0], 0.5*(1.+0.2*i)), fontsize=12)\n",
    "    i=1\n",
    "    ax.annotate('T={:.1f}'.format(eventTimes[1]), xy=(eventTimes[1], 0.5*(1.+0.2*i)),\n",
    "            xytext=(eventTimes[1], 0.5*(1.+0.2*i)), fontsize=12)\n",
    "\n",
    "    title = \"Comparing survival functions from {} groups\".format(\"low risk and high risk\")\n",
    "    if isinstance(modelName, str):\n",
    "        title = modelName + \": \" + title\n",
    "    plt.legend(fontsize=12)\n",
    "    plt.title(title, fontsize=15)\n",
    "    plt.ylabel(\"Survival probability\")\n",
    "    plt.xlabel(\"Time spent in the company\")    \n",
    "    plt.ylim(0, 1.05)\n",
    "    plt.show()\n",
    "    return"
   ]
  },
  {
   "cell_type": "code",
   "execution_count": 29,
   "metadata": {},
   "outputs": [
    {
     "name": "stdout",
     "output_type": "stream",
     "text": [
      "Time spent in company for two employees:5 and 3\n",
      "Predicted hazards for two employees: [0.9370803236961365, 27.8958683013916]\n"
     ]
    },
    {
     "data": {
      "image/png": "[encoded data removed]",
      "text/plain": [
       "<Figure size 1080x576 with 1 Axes>"
      ]
     },
     "metadata": {
      "needs_background": "light"
     },
     "output_type": "display_data"
    }
   ],
   "source": [
    "plot_survival(dl_survival, df_hazard, modelName=\"Deep Learning Model\",id=id)"
   ]
  },
  {
   "cell_type": "markdown",
   "metadata": {},
   "source": [
    "- As we expect, the predicted survival curve for the employee with low risk is above the one with hight risk, since the employee from the high risk group has higher hazard rate than the employee from the low risk group.\n",
    "- From the survival function of the employee from the high risk group, we can tell that the employee spent at this company more than 3 years with the probability around 0.5. And from the test data set, we knew that the employee's tenure time at the company was 3 years."
   ]
  },
  {
   "cell_type": "markdown",
   "metadata": {},
   "source": [
    "#### 4.4 Understand and identify risk factors that contribute to employee's attrition\n",
    "- Find how an employee's satisfaction_level impacts his/her time spent at the company"
   ]
  },
  {
   "cell_type": "code",
   "execution_count": 30,
   "metadata": {},
   "outputs": [
    {
     "data": {
      "text/html": [
       "<div class=\"cas-results-key\"><b>&#167; InputCasTables</b></div>\n",
       "<div class=\"cas-results-body\">\n",
       "<div>\n",
       "<style scoped>\n",
       "    .dataframe tbody tr th:only-of-type {\n",
       "        vertical-align: middle;\n",
       "    }\n",
       "\n",
       "    .dataframe tbody tr th {\n",
       "        vertical-align: top;\n",
       "    }\n",
       "\n",
       "    .dataframe thead th {\n",
       "        text-align: right;\n",
       "    }\n",
       "</style>\n",
       "<table border=\"1\" class=\"dataframe\">\n",
       "  <thead>\n",
       "    <tr style=\"text-align: right;\">\n",
       "      <th title=\"\"></th>\n",
       "      <th title=\"CAS Library\">casLib</th>\n",
       "      <th title=\"Name\">Name</th>\n",
       "      <th title=\"Number of Rows\">Rows</th>\n",
       "      <th title=\"Number of Columns\">Columns</th>\n",
       "      <th title=\"Table\">casTable</th>\n",
       "    </tr>\n",
       "  </thead>\n",
       "  <tbody>\n",
       "    <tr>\n",
       "      <td>0</td>\n",
       "      <td>CASUSER(aistatistics)</td>\n",
       "      <td>test</td>\n",
       "      <td>4500</td>\n",
       "      <td>12</td>\n",
       "      <td>CASTable('test', caslib='CASUSER(aistatistics)')</td>\n",
       "    </tr>\n",
       "  </tbody>\n",
       "</table>\n",
       "</div>\n",
       "</div>\n",
       "<div class=\"cas-results-key\"><hr/><b>&#167; OutputCasTables</b></div>\n",
       "<div class=\"cas-results-body\">\n",
       "<div>\n",
       "<style scoped>\n",
       "    .dataframe tbody tr th:only-of-type {\n",
       "        vertical-align: middle;\n",
       "    }\n",
       "\n",
       "    .dataframe tbody tr th {\n",
       "        vertical-align: top;\n",
       "    }\n",
       "\n",
       "    .dataframe thead th {\n",
       "        text-align: right;\n",
       "    }\n",
       "</style>\n",
       "<table border=\"1\" class=\"dataframe\">\n",
       "  <thead>\n",
       "    <tr style=\"text-align: right;\">\n",
       "      <th title=\"\"></th>\n",
       "      <th title=\"CAS Library\">casLib</th>\n",
       "      <th title=\"Name\">Name</th>\n",
       "      <th title=\"Number of Rows\">Rows</th>\n",
       "      <th title=\"Number of Columns\">Columns</th>\n",
       "      <th title=\"Number of Rows Appended\">Append</th>\n",
       "      <th title=\"Promoted\">Promoted</th>\n",
       "      <th title=\"Table\">casTable</th>\n",
       "    </tr>\n",
       "  </thead>\n",
       "  <tbody>\n",
       "    <tr>\n",
       "      <td>0</td>\n",
       "      <td>CASUSER(aistatistics)</td>\n",
       "      <td>input</td>\n",
       "      <td>3</td>\n",
       "      <td>13</td>\n",
       "      <td>NaN</td>\n",
       "      <td>N</td>\n",
       "      <td>CASTable('input', caslib='CASUSER(aistatistics)')</td>\n",
       "    </tr>\n",
       "  </tbody>\n",
       "</table>\n",
       "</div>\n",
       "</div>\n",
       "<div class=\"cas-output-area\"></div>\n",
       "<p class=\"cas-results-performance\"><small><span class=\"cas-elapsed\">elapsed 0.0422s</span> &#183; <span class=\"cas-user\">user 0.0684s</span> &#183; <span class=\"cas-sys\">sys 0.114s</span> &#183; <span class=\"cas-memory\">mem 48.1MB</span></small></p>"
      ],
      "text/plain": [
       "[InputCasTables]\n",
       "\n",
       "             casLib  Name  Rows  Columns  \\\n",
       " 0  CASUSER(aistatistics)  test  4500       12   \n",
       " \n",
       "                                      casTable  \n",
       " 0  CASTable('test', caslib='CASUSER(aistatistics)')  \n",
       "\n",
       "[OutputCasTables]\n",
       "\n",
       "             casLib   Name  Rows  Columns  Append Promoted  \\\n",
       " 0  CASUSER(aistatistics)  input     3       13     NaN        N   \n",
       " \n",
       "                                       casTable  \n",
       " 0  CASTable('input', caslib='CASUSER(aistatistics)')  \n",
       "\n",
       "+ Elapsed: 0.0422s, user: 0.0684s, sys: 0.114s, mem: 48.1mb"
      ]
     },
     "execution_count": 30,
     "metadata": {},
     "output_type": "execute_result"
    }
   ],
   "source": [
    "# prepare input data to predict survival probability curves\n",
    "inputTbl = s.CASTable(\"input\",replace=True)\n",
    "employee_id = df_high.id.iloc[1]\n",
    "s.runCode(code=\"\"\"data {0};\n",
    "                   set {1};\n",
    "                   array level(3)  _temporary_ (0.3 0.5 0.7) ;                    \n",
    "                   if id={2} then do;\n",
    "                        do i=1 to 3;\n",
    "                            satisfaction_level = level[i];\n",
    "                            output;\n",
    "                        end;\n",
    "                    end;\n",
    "                   run ;\n",
    "                   \"\"\".format(inputTbl.name, testTbl.name, employee_id))"
   ]
  },
  {
   "cell_type": "code",
   "execution_count": 31,
   "metadata": {},
   "outputs": [
    {
     "data": {
      "text/html": [
       "<div>\n",
       "<style scoped>\n",
       "    .dataframe tbody tr th:only-of-type {\n",
       "        vertical-align: middle;\n",
       "    }\n",
       "\n",
       "    .dataframe tbody tr th {\n",
       "        vertical-align: top;\n",
       "    }\n",
       "\n",
       "    .dataframe thead th {\n",
       "        text-align: right;\n",
       "    }\n",
       "</style>\n",
       "<table border=\"1\" class=\"dataframe\"><caption>Selected Rows from Table INPUT</caption>\n",
       "  <thead>\n",
       "    <tr style=\"text-align: right;\">\n",
       "      <th title=\"\"></th>\n",
       "      <th title=\"satisfaction_level\">satisfaction_level</th>\n",
       "      <th title=\"last_evaluation\">last_evaluation</th>\n",
       "      <th title=\"number_projects\">number_projects</th>\n",
       "      <th title=\"average_montly_hours\">average_montly_hours</th>\n",
       "      <th title=\"time_spend_company\">time_spend_company</th>\n",
       "      <th title=\"work_accident\">work_accident</th>\n",
       "      <th title=\"left\">left</th>\n",
       "      <th title=\"promotion_last_5years\">promotion_last_5years</th>\n",
       "      <th title=\"department\">department</th>\n",
       "      <th title=\"salary\">salary</th>\n",
       "      <th title=\"y\">y</th>\n",
       "      <th title=\"id\">id</th>\n",
       "      <th title=\"i\">i</th>\n",
       "    </tr>\n",
       "  </thead>\n",
       "  <tbody>\n",
       "    <tr>\n",
       "      <td>0</td>\n",
       "      <td>0.3</td>\n",
       "      <td>0.55</td>\n",
       "      <td>2.0</td>\n",
       "      <td>145.0</td>\n",
       "      <td>3.0</td>\n",
       "      <td>0.0</td>\n",
       "      <td>1.0</td>\n",
       "      <td>0.0</td>\n",
       "      <td>technical</td>\n",
       "      <td>low</td>\n",
       "      <td>3.0</td>\n",
       "      <td>3.0</td>\n",
       "      <td>1.0</td>\n",
       "    </tr>\n",
       "    <tr>\n",
       "      <td>1</td>\n",
       "      <td>0.5</td>\n",
       "      <td>0.55</td>\n",
       "      <td>2.0</td>\n",
       "      <td>145.0</td>\n",
       "      <td>3.0</td>\n",
       "      <td>0.0</td>\n",
       "      <td>1.0</td>\n",
       "      <td>0.0</td>\n",
       "      <td>technical</td>\n",
       "      <td>low</td>\n",
       "      <td>3.0</td>\n",
       "      <td>3.0</td>\n",
       "      <td>2.0</td>\n",
       "    </tr>\n",
       "    <tr>\n",
       "      <td>2</td>\n",
       "      <td>0.7</td>\n",
       "      <td>0.55</td>\n",
       "      <td>2.0</td>\n",
       "      <td>145.0</td>\n",
       "      <td>3.0</td>\n",
       "      <td>0.0</td>\n",
       "      <td>1.0</td>\n",
       "      <td>0.0</td>\n",
       "      <td>technical</td>\n",
       "      <td>low</td>\n",
       "      <td>3.0</td>\n",
       "      <td>3.0</td>\n",
       "      <td>3.0</td>\n",
       "    </tr>\n",
       "  </tbody>\n",
       "</table>\n",
       "</div>"
      ],
      "text/plain": [
       "Selected Rows from Table INPUT\n",
       "\n",
       "   satisfaction_level  last_evaluation  number_projects  average_montly_hours  \\\n",
       "0                 0.3             0.55              2.0                 145.0   \n",
       "1                 0.5             0.55              2.0                 145.0   \n",
       "2                 0.7             0.55              2.0                 145.0   \n",
       "\n",
       "   time_spend_company  work_accident  left  promotion_last_5years department  \\\n",
       "0                 3.0            0.0   1.0                    0.0  technical   \n",
       "1                 3.0            0.0   1.0                    0.0  technical   \n",
       "2                 3.0            0.0   1.0                    0.0  technical   \n",
       "\n",
       "  salary    y   id    i  \n",
       "0    low  3.0  3.0  1.0  \n",
       "1    low  3.0  3.0  2.0  \n",
       "2    low  3.0  3.0  3.0  "
      ]
     },
     "execution_count": 31,
     "metadata": {},
     "output_type": "execute_result"
    }
   ],
   "source": [
    "# display the input data\n",
    "inputTbl.head()"
   ]
  },
  {
   "cell_type": "code",
   "execution_count": 32,
   "metadata": {},
   "outputs": [
    {
     "name": "stdout",
     "output_type": "stream",
     "text": [
      "[ScoreInfo]\n",
      "\n",
      "                          Descr         Value\n",
      " 0  Number of Observations Read         10499\n",
      " 1  Number of Observations Used         10499\n",
      " 2                   Loss Error      0.154297\n",
      "\n",
      "[CumHazard]\n",
      "\n",
      "    Time    CumHaz\n",
      " 0   2.0  0.000615\n",
      " 1   3.0  0.019485\n",
      " 2   4.0  0.073414\n",
      " 3   5.0  0.197611\n",
      " 4   6.0  0.280324\n",
      "\n",
      "[OutputCasTables]\n",
      "\n",
      "             casLib              Name   Rows  Columns  \\\n",
      " 0  CASUSER(aistatistics)  Valid_Res_ybjqtY  10499       12   \n",
      " \n",
      "                                             casTable  \n",
      " 0  CASTable('Valid_Res_ybjqtY', caslib='CASUSER(g...  \n",
      "\n",
      "+ Elapsed: 0.0467s, user: 0.153s, sys: 0.0365s, mem: 156mb\n",
      "NOTE: Due to data distribution, miniBatchSize has been limited to 3.\n",
      "\n",
      " Predicted hazard scores:\n"
     ]
    },
    {
     "data": {
      "text/html": [
       "<div>\n",
       "<style scoped>\n",
       "    .dataframe tbody tr th:only-of-type {\n",
       "        vertical-align: middle;\n",
       "    }\n",
       "\n",
       "    .dataframe tbody tr th {\n",
       "        vertical-align: top;\n",
       "    }\n",
       "\n",
       "    .dataframe thead th {\n",
       "        text-align: right;\n",
       "    }\n",
       "</style>\n",
       "<table border=\"1\" class=\"dataframe\"><caption>Selected Rows from Table VALID_RES_YBJQTY</caption>\n",
       "  <thead>\n",
       "    <tr style=\"text-align: right;\">\n",
       "      <th title=\"\"></th>\n",
       "      <th title=\"satisfaction_level\">satisfaction_level</th>\n",
       "      <th title=\"last_evaluation\">last_evaluation</th>\n",
       "      <th title=\"number_projects\">number_projects</th>\n",
       "      <th title=\"average_montly_hours\">average_montly_hours</th>\n",
       "      <th title=\"time_spend_company\">time_spend_company</th>\n",
       "      <th title=\"work_accident\">work_accident</th>\n",
       "      <th title=\"left\">left</th>\n",
       "      <th title=\"promotion_last_5years\">promotion_last_5years</th>\n",
       "      <th title=\"department\">department</th>\n",
       "      <th title=\"salary\">salary</th>\n",
       "      <th title=\"y\">y</th>\n",
       "      <th title=\"id\">id</th>\n",
       "      <th title=\"i\">i</th>\n",
       "      <th title=\"_DL_Pred_\">_DL_Pred_</th>\n",
       "    </tr>\n",
       "  </thead>\n",
       "  <tbody>\n",
       "    <tr>\n",
       "      <td>0</td>\n",
       "      <td>0.3</td>\n",
       "      <td>0.55</td>\n",
       "      <td>2.0</td>\n",
       "      <td>145.0</td>\n",
       "      <td>3.0</td>\n",
       "      <td>0.0</td>\n",
       "      <td>1.0</td>\n",
       "      <td>0.0</td>\n",
       "      <td>technical</td>\n",
       "      <td>low</td>\n",
       "      <td>3.0</td>\n",
       "      <td>3.0</td>\n",
       "      <td>1.0</td>\n",
       "      <td>71.428185</td>\n",
       "    </tr>\n",
       "    <tr>\n",
       "      <td>1</td>\n",
       "      <td>0.5</td>\n",
       "      <td>0.55</td>\n",
       "      <td>2.0</td>\n",
       "      <td>145.0</td>\n",
       "      <td>3.0</td>\n",
       "      <td>0.0</td>\n",
       "      <td>1.0</td>\n",
       "      <td>0.0</td>\n",
       "      <td>technical</td>\n",
       "      <td>low</td>\n",
       "      <td>3.0</td>\n",
       "      <td>3.0</td>\n",
       "      <td>2.0</td>\n",
       "      <td>21.131565</td>\n",
       "    </tr>\n",
       "    <tr>\n",
       "      <td>2</td>\n",
       "      <td>0.7</td>\n",
       "      <td>0.55</td>\n",
       "      <td>2.0</td>\n",
       "      <td>145.0</td>\n",
       "      <td>3.0</td>\n",
       "      <td>0.0</td>\n",
       "      <td>1.0</td>\n",
       "      <td>0.0</td>\n",
       "      <td>technical</td>\n",
       "      <td>low</td>\n",
       "      <td>3.0</td>\n",
       "      <td>3.0</td>\n",
       "      <td>3.0</td>\n",
       "      <td>6.388025</td>\n",
       "    </tr>\n",
       "  </tbody>\n",
       "</table>\n",
       "</div>"
      ],
      "text/plain": [
       "Selected Rows from Table VALID_RES_YBJQTY\n",
       "\n",
       "   satisfaction_level  last_evaluation  number_projects  average_montly_hours  \\\n",
       "0                 0.3             0.55              2.0                 145.0   \n",
       "1                 0.5             0.55              2.0                 145.0   \n",
       "2                 0.7             0.55              2.0                 145.0   \n",
       "\n",
       "   time_spend_company  work_accident  left  promotion_last_5years department  \\\n",
       "0                 3.0            0.0   1.0                    0.0  technical   \n",
       "1                 3.0            0.0   1.0                    0.0  technical   \n",
       "2                 3.0            0.0   1.0                    0.0  technical   \n",
       "\n",
       "  salary    y   id    i  _DL_Pred_  \n",
       "0    low  3.0  3.0  1.0  71.428185  \n",
       "1    low  3.0  3.0  2.0  21.131565  \n",
       "2    low  3.0  3.0  3.0   6.388025  "
      ]
     },
     "execution_count": 32,
     "metadata": {},
     "output_type": "execute_result"
    }
   ],
   "source": [
    "# step 1: Obtain cumulative hazard estimates\n",
    "surv_model = deepSurvModel\n",
    "#surv_model = CoxModel\n",
    "score_trainTbl = surv_model.predict(trainTbl)\n",
    "\n",
    "print(score_trainTbl)\n",
    "# step 2: predict hazard rate\n",
    "surv_model.predict(inputTbl)\n",
    "predicted_hazard  = surv_model.valid_res_tbl\n",
    "print(\"\\n Predicted hazard scores:\")\n",
    "predicted_hazard.head()"
   ]
  },
  {
   "cell_type": "code",
   "execution_count": 33,
   "metadata": {},
   "outputs": [],
   "source": [
    "hazard_df = predicted_hazard.to_frame()\n",
    "baselineCumHazard_df= pd.DataFrame(score_trainTbl[\"CumHazard\"])\n",
    "dl_survival = dl_survival_function(baselineCumHazard_df,hazard_df, id=\"id\")"
   ]
  },
  {
   "cell_type": "markdown",
   "metadata": {},
   "source": [
    "#### Plot predicted survival function on various satisfaction levels"
   ]
  },
  {
   "cell_type": "code",
   "execution_count": 34,
   "metadata": {},
   "outputs": [
    {
     "data": {
      "image/png": "[encoded data removed]",
      "text/plain": [
       "<Figure size 1080x576 with 1 Axes>"
      ]
     },
     "metadata": {
      "needs_background": "light"
     },
     "output_type": "display_data"
    }
   ],
   "source": [
    "fig, ax = plt.subplots(figsize=(15, 8))\n",
    "ax.plot(dl_survival.iloc[:,0], dl_survival.iloc[:,1],label='satisfaction level:0.3')\n",
    "ax.plot(dl_survival.iloc[:,0], dl_survival.iloc[:,2],label='satisfaction level:0.5')\n",
    "ax.plot(dl_survival.iloc[:,0], dl_survival.iloc[:,3],label='satisfaction level:0.7')\n",
    "legend = ax.legend(shadow=True, fontsize='x-large')\n",
    "plt.show()"
   ]
  },
  {
   "cell_type": "markdown",
   "metadata": {},
   "source": [
    "### The survival functions  for various satisfaction levels in the plot show that the employee's satisfaction level has positive relationship with the employee' tenure time in this company."
   ]
  },
  {
   "cell_type": "markdown",
   "metadata": {},
   "source": [
    "### 5. Summary <a name=\"summary\"></a> "
   ]
  },
  {
   "cell_type": "markdown",
   "metadata": {},
   "source": [
    "Survival analysis provides a valid and powerful way to analyze survival data with censoring. In the employee attrition analysis, the deep survival model can automatically learn a complex and nonlinear function to predict an employee's turnover risk, and perform better than the popular Cox proportional hazards model."
   ]
  },
  {
   "cell_type": "markdown",
   "metadata": {},
   "source": [
    "### Reference"
   ]
  },
  {
   "cell_type": "markdown",
   "metadata": {},
   "source": [
    "* [DeepSurv: personalized treatment recommender system using a Cox proportional hazards deep neural network](https://bmcmedresmethodol.biomedcentral.com/articles/10.1186/s12874-018-0482-1)\n",
    "* [PySurvival package for survival anlayis](https://square.github.io/pysurvival/index.html)\n",
    "* [Employee Attrition Data Set from PySurvival](https://github.com/square/pysurvival/blob/master/pysurvival/datasets/employee_attrition.csv)\n",
    "* [Knowing when your employees will quit](https://square.github.io/pysurvival/tutorials/employee_retention.html)\n",
    "* [DeepHit: A Deep Learning Approach to Survival Analysis with Competing Risks](http://medianetlab.ee.ucla.edu/papers/AAAI_2018_DeepHit)\n",
    "* [Cox Proportional Hazards Model](https://www.jstor.org/stable/pdf/2985181.pdf)\n",
    "* [The PHREG Procedure from SAS](https://support.sas.com/documentation/onlinedoc/stat/141/phreg.pdf)\n",
    "* [Telecoms Churn - Predicting Customer Turnover](https://rpubs.com/dmorgan26/telecomschurn)"
   ]
  },
  {
   "cell_type": "code",
   "execution_count": null,
   "metadata": {},
   "outputs": [],
   "source": [
    "# close the session\n",
    "s.endsession()"
   ]
  }
 ],
 "metadata": {
  "kernelspec": {
   "display_name": "Python 3",
   "language": "python",
   "name": "python3"
  },
  "language_info": {
   "codemirror_mode": {
    "name": "ipython",
    "version": 3
   },
   "file_extension": ".py",
   "mimetype": "text/x-python",
   "name": "python",
   "nbconvert_exporter": "python",
   "pygments_lexer": "ipython3",
   "version": "3.7.4"
  }
 },
 "nbformat": 4,
 "nbformat_minor": 4
}
